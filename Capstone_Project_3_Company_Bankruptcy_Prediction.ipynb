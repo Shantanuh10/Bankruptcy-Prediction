{
  "nbformat": 4,
  "nbformat_minor": 0,
  "metadata": {
    "colab": {
      "name": "Capstone Project 3_Company Bankruptcy Prediction.ipynb",
      "provenance": [],
      "authorship_tag": "ABX9TyMKpEdt4HQQd/pOSkOjtPMx",
      "include_colab_link": true
    },
    "kernelspec": {
      "name": "python3",
      "display_name": "Python 3"
    },
    "language_info": {
      "name": "python"
    }
  },
  "cells": [
    {
      "cell_type": "markdown",
      "metadata": {
        "id": "view-in-github",
        "colab_type": "text"
      },
      "source": [
        "<a href=\"https://colab.research.google.com/github/Shantanuh10/Bankruptcy-Prediction/blob/main/Capstone_Project_3_Company_Bankruptcy_Prediction.ipynb\" target=\"_parent\"><img src=\"https://colab.research.google.com/assets/colab-badge.svg\" alt=\"Open In Colab\"/></a>"
      ]
    },
    {
      "cell_type": "markdown",
      "source": [
        "#**<font size=\"+3\" color='#053c40'><b> Company Bankruptcy Prediction </b></font>**\n",
        "\n",
        "\n",
        "---\n",
        "\n",
        "\n",
        "#<font size=\"+2\" color='#053c96'><b> About this Project </b></font>\n",
        "\n",
        "This is a Machine Learning Classification Project, which is part of AlmaBetter's Data Science Pro Program Curriculum.\n",
        "\n",
        "#<font size=\"+2\" color='#053c96'><b> Problem Statement </b></font>\n",
        "\n",
        "Prediction of bankruptcy is a phenomenon of increasing interest to firms who stand to loose money because on unpaid debts. Since computers can store huge dataset pertaining to bankruptcy making accurate predictions from them before hand is becoming important.\n",
        "\n",
        "The data were collected from the Taiwan Economic Journal for the years 1999 to 2009. Company bankruptcy was defined based on the business regulations of the Taiwan Stock Exchange.\n",
        "\n",
        "The main objective of this project is to use various classification algorithms on bankruptcy dataset to predict bankruptcies with satisfying accuracies long before the actual event.\n",
        "\n",
        "---\n",
        "\n",
        "#<font size=\"+2\" color='#053c96'><b> Dataset Information </b></font>\n",
        "\n",
        "*   Number of instances: 6819\n",
        "*   Number of attributes: 96\n",
        "\n",
        "---\n",
        "\n",
        "#<font size=\"+2\" color='#053c96'><b> Understanding the Data </b></font>\n",
        "\n",
        "Updated column names and description to make the data easier to understand (Y = Output feature, X = Input features)\n",
        "\n",
        "Y - Bankrupt?: Class label 1 : Yes , 0: No\n",
        "\n",
        "X1 - ROA(C) before interest and depreciation before interest: Return On Total Assets(C)\n",
        "\n",
        "X2 - ROA(A) before interest and % after tax: Return On Total Assets(A)\n",
        "\n",
        "X3 - ROA(B) before interest and depreciation after tax: Return On Total Assets(B)\n",
        "\n",
        "X4 - Operating Gross Margin: Gross Profit/Net Sales\n",
        "\n",
        "X5 - Realized Sales Gross Margin: Realized Gross Profit/Net Sales\n",
        "\n",
        "X6 - Operating Profit Rate: Operating Income/Net Sales\n",
        "\n",
        "X7 - Pre-tax net Interest Rate: Pre-Tax Income/Net Sales\n",
        "\n",
        "X8 - After-tax net Interest Rate: Net Income/Net Sales\n",
        "\n",
        "X9 - Non-industry income and expenditure/revenue: Net Non-operating Income Ratio\n",
        "\n",
        "X10 - Continuous interest rate (after tax): Net Income-Exclude Disposal Gain or Loss/Net Sales\n",
        "\n",
        "X11 - Operating Expense Rate: Operating Expenses/Net Sales\n",
        "\n",
        "X12 - Research and development expense rate: (Research and Development Expenses)/Net Sales\n",
        "\n",
        "X13 - Cash flow rate: Cash Flow from Operating/Current Liabilities\n",
        "\n",
        "X14 - Interest-bearing debt interest rate: Interest-bearing Debt/Equity\n",
        "\n",
        "X15 - Tax rate (A): Effective Tax Rate\n",
        "\n",
        "X16 - Net Value Per Share (B): Book Value Per Share(B)\n",
        "\n",
        "X17 - Net Value Per Share (A): Book Value Per Share(A)\n",
        "\n",
        "X18 - Net Value Per Share (C): Book Value Per Share(C)\n",
        "\n",
        "X19 - Persistent EPS in the Last Four Seasons: EPS-Net Income\n",
        "\n",
        "X20 - Cash Flow Per Share\n",
        "\n",
        "X21 - Revenue Per Share (Yuan ¥): Sales Per Share\n",
        "\n",
        "X22 - Operating Profit Per Share (Yuan ¥): Operating Income Per Share\n",
        "\n",
        "X23 - Per Share Net profit before tax (Yuan ¥): Pretax Income Per Share\n",
        "\n",
        "X24 - Realized Sales Gross Profit Growth Rate\n",
        "\n",
        "X25 - Operating Profit Growth Rate: Operating Income Growth\n",
        "\n",
        "X26 - After-tax Net Profit Growth Rate: Net Income Growth\n",
        "\n",
        "X27 - Regular Net Profit Growth Rate: Continuing Operating Income after Tax Growth\n",
        "\n",
        "X28 - Continuous Net Profit Growth Rate: Net Income-Excluding Disposal Gain or Loss Growth\n",
        "\n",
        "X29 - Total Asset Growth Rate: Total Asset Growth\n",
        "\n",
        "X30 - Net Value Growth Rate: Total Equity Growth\n",
        "\n",
        "X31 - Total Asset Return Growth Rate Ratio: Return on Total Asset Growth\n",
        "\n",
        "X32 - Cash Reinvestment %: Cash Reinvestment Ratio\n",
        "\n",
        "X33 - Current Ratio\n",
        "\n",
        "X34 - Quick Ratio: Acid Test\n",
        "\n",
        "X35 - Interest Expense Ratio: Interest Expenses/Total Revenue\n",
        "\n",
        "X36 - Total debt/Total net worth: Total Liability/Equity Ratio\n",
        "\n",
        "X37 - Debt ratio %: Liability/Total Assets\n",
        "\n",
        "X38 - Net worth/Assets: Equity/Total Assets\n",
        "\n",
        "X39 - Long-term fund suitability ratio (A): (Long-term Liability+Equity)/Fixed Assets\n",
        "\n",
        "X40 - Borrowing dependency: Cost of Interest-bearing Debt\n",
        "\n",
        "X41 - Contingent liabilities/Net worth: Contingent Liability/Equity\n",
        "\n",
        "X42 - Operating profit/Paid-in capital: Operating Income/Capital\n",
        "\n",
        "X43 - Net profit before tax/Paid-in capital: Pretax Income/Capital\n",
        "\n",
        "X44 - Inventory and accounts receivable/Net value: (Inventory+Accounts Receivables)/Equity\n",
        "\n",
        "X45 - Total Asset Turnover\n",
        "\n",
        "X46 - Accounts Receivable Turnover\n",
        "\n",
        "X47 - Average Collection Days: Days Receivable Outstanding\n",
        "\n",
        "X48 - Inventory Turnover Rate (times)\n",
        "\n",
        "X49 - Fixed Assets Turnover Frequency\n",
        "\n",
        "X50 - Net Worth Turnover Rate (times): Equity Turnover\n",
        "\n",
        "X51 - Revenue per person: Sales Per Employee\n",
        "\n",
        "X52 - Operating profit per person: Operation Income Per Employee\n",
        "\n",
        "X53 - Allocation rate per person: Fixed Assets Per Employee\n",
        "\n",
        "X54 - Working Capital to Total Assets\n",
        "\n",
        "X55 - Quick Assets/Total Assets\n",
        "\n",
        "X56 - Current Assets/Total Assets\n",
        "\n",
        "X57 - Cash/Total Assets\n",
        "\n",
        "X58 - Quick Assets/Current Liability\n",
        "\n",
        "X59 - Cash/Current Liability\n",
        "\n",
        "X60 - Current Liability to Assets\n",
        "\n",
        "X61 - Operating Funds to Liability\n",
        "\n",
        "X62 - Inventory/Working Capital\n",
        "\n",
        "X63 - Inventory/Current Liability\n",
        "\n",
        "X64 - Current Liabilities/Liability\n",
        "\n",
        "X65 - Working Capital/Equity\n",
        "\n",
        "X66 - Current Liabilities/Equity\n",
        "\n",
        "X67 - Long-term Liability to Current Assets\n",
        "\n",
        "X68 - Retained Earnings to Total Assets\n",
        "\n",
        "X69 - Total income/Total expense\n",
        "\n",
        "X70 - Total expense/Assets\n",
        "\n",
        "X71 - Current Asset Turnover Rate: Current Assets to Sales\n",
        "\n",
        "X72 - Quick Asset Turnover Rate: Quick Assets to Sales\n",
        "\n",
        "X73 - Working capitcal Turnover Rate: Working Capital to Sales\n",
        "\n",
        "X74 - Cash Turnover Rate: Cash to Sales\n",
        "\n",
        "X75 - Cash Flow to Sales\n",
        "\n",
        "X76 - Fixed Assets to Assets\n",
        "\n",
        "X77 - Current Liability to Liability\n",
        "\n",
        "X78 - Current Liability to Equity\n",
        "\n",
        "X79 - Equity to Long-term Liability\n",
        "\n",
        "X80 - Cash Flow to Total Assets\n",
        "\n",
        "X81 - Cash Flow to Liability\n",
        "\n",
        "X82 - CFO to Assets\n",
        "\n",
        "X83 - Cash Flow to Equity\n",
        "\n",
        "X84 - Current Liability to Current Assets\n",
        "\n",
        "X85 - Liability-Assets Flag: 1 if Total Liability exceeds Total Assets, 0 otherwise\n",
        "\n",
        "X86 - Net Income to Total Assets\n",
        "\n",
        "X87 - Total assets to GNP price\n",
        "\n",
        "X88 - No-credit Interval\n",
        "\n",
        "X89 - Gross Profit to Sales\n",
        "\n",
        "X90 - Net Income to Stockholder's Equity\n",
        "\n",
        "X91 - Liability to Equity\n",
        "\n",
        "X92 - Degree of Financial Leverage (DFL)\n",
        "\n",
        "X93 - Interest Coverage Ratio (Interest expense to EBIT)\n",
        "\n",
        "X94 - Net Income Flag: 1 if Net Income is Negative for the last two years, 0 otherwise\n",
        "\n",
        "X95 - Equity to Liability\n",
        "\n",
        "**Target Variable :**\n",
        "\n",
        "Bankrupt?: Class label 1 : Yes , 0: No\n",
        "\n",
        "**Goal: The main objective is to analyze the dataset and build a predictive model by using various classification algorithms to predict bankruptcy of companies.**\n",
        "\n",
        "#<font size=\"+2\" color='#053c96'><b> Project Workflow </b></font>\n",
        "\n",
        "1. Importing Libraries\n",
        "\n",
        "2. Loading the Dataset\n",
        "\n",
        "3. EDA on features \n",
        "\n",
        "4. Data Modeling\n",
        "\n",
        "5. Comparison of Models\n",
        "\n",
        "6. Feature selection\n",
        "\n",
        "7. Conclusion\n",
        "\n",
        "--- "
      ],
      "metadata": {
        "id": "p4Bd_vPXRHpK"
      }
    },
    {
      "cell_type": "markdown",
      "source": [
        "# **1. Importing Libraries**"
      ],
      "metadata": {
        "id": "BD9_dDzjWs0v"
      }
    },
    {
      "cell_type": "code",
      "execution_count": 1,
      "metadata": {
        "id": "1HZdy4VmQ_xP"
      },
      "outputs": [],
      "source": [
        "import numpy as np\n",
        "import pandas as pd\n",
        "import seaborn as sns\n",
        "from random import randint\n",
        "import matplotlib.pyplot as plt\n",
        "\n",
        "from sklearn.linear_model import LogisticRegression\n",
        "from sklearn.svm import SVC\n",
        "from sklearn.neighbors import KNeighborsClassifier\n",
        "from sklearn.tree import DecisionTreeClassifier\n",
        "from sklearn.ensemble import RandomForestClassifier\n",
        "\n",
        "from sklearn.model_selection import train_test_split\n",
        "from sklearn.model_selection import StratifiedKFold\n",
        "from imblearn.pipeline import make_pipeline as imbalanced_make_pipeline\n",
        "from imblearn.over_sampling import SMOTE\n",
        "from sklearn.model_selection import RandomizedSearchCV\n",
        "from sklearn.metrics import classification_report, confusion_matrix, f1_score,accuracy_score, precision_score, recall_score, roc_auc_score \n",
        "\n",
        "from sklearn.feature_selection import SelectKBest\n",
        "from sklearn.feature_selection import f_classif\n",
        "\n",
        "import warnings\n",
        "warnings.filterwarnings(\"ignore\")"
      ]
    },
    {
      "cell_type": "markdown",
      "source": [
        "# **2. Loading the dataset**"
      ],
      "metadata": {
        "id": "XU_aUXS-aizw"
      }
    },
    {
      "cell_type": "code",
      "source": [
        "#mounting the drive\n",
        "from google.colab import drive\n",
        "drive.mount('/content/drive')"
      ],
      "metadata": {
        "colab": {
          "base_uri": "https://localhost:8080/"
        },
        "id": "nAEH41Nyaj0A",
        "outputId": "debfb041-4f54-4e53-96ec-7a630043cb1e"
      },
      "execution_count": 2,
      "outputs": [
        {
          "output_type": "stream",
          "name": "stdout",
          "text": [
            "Mounted at /content/drive\n"
          ]
        }
      ]
    },
    {
      "cell_type": "code",
      "source": [
        "#loading the data file and creating a dataframe\n",
        "path='/content/drive/MyDrive/Company Bankruptcy Prediction - Shantanu Houzwala/COMPANY BANKRUPTCY PREDICTION.csv' \n",
        "df=pd.read_csv(path)"
      ],
      "metadata": {
        "id": "yK9wfw1Ea5ND"
      },
      "execution_count": 3,
      "outputs": []
    },
    {
      "cell_type": "markdown",
      "source": [
        "# **3. Exploratory Data Analysis**"
      ],
      "metadata": {
        "id": "xUl1BqTSbToo"
      }
    },
    {
      "cell_type": "code",
      "source": [
        "df.shape"
      ],
      "metadata": {
        "colab": {
          "base_uri": "https://localhost:8080/"
        },
        "id": "MnLD9zBkbVUM",
        "outputId": "6493d7aa-7102-4ae4-af61-8460566fc5c5"
      },
      "execution_count": 98,
      "outputs": [
        {
          "output_type": "execute_result",
          "data": {
            "text/plain": [
              "(6819, 96)"
            ]
          },
          "metadata": {},
          "execution_count": 98
        }
      ]
    },
    {
      "cell_type": "code",
      "source": [
        "#printing the dataset info\n",
        "df.info()"
      ],
      "metadata": {
        "colab": {
          "base_uri": "https://localhost:8080/"
        },
        "id": "iaIxujcxebXE",
        "outputId": "72af9cff-7036-4d71-e1ee-5aa5b36b65a9"
      },
      "execution_count": 99,
      "outputs": [
        {
          "output_type": "stream",
          "name": "stdout",
          "text": [
            "<class 'pandas.core.frame.DataFrame'>\n",
            "RangeIndex: 6819 entries, 0 to 6818\n",
            "Data columns (total 96 columns):\n",
            " #   Column                                           Non-Null Count  Dtype  \n",
            "---  ------                                           --------------  -----  \n",
            " 0   Bankrupt?                                        6819 non-null   int64  \n",
            " 1   ROACbeforeinterestanddepreciationbeforeinterest  6819 non-null   float64\n",
            " 2   ROAAbeforeinterestandPercentageaftertax          6819 non-null   float64\n",
            " 3   ROABbeforeinterestanddepreciationaftertax        6819 non-null   float64\n",
            " 4   OperatingGrossMargin                             6819 non-null   float64\n",
            " 5   RealizedSalesGrossMargin                         6819 non-null   float64\n",
            " 6   OperatingProfitRate                              6819 non-null   float64\n",
            " 7   PretaxnetInterestRate                            6819 non-null   float64\n",
            " 8   AftertaxnetInterestRate                          6819 non-null   float64\n",
            " 9   Nonindustryincomeandexpenditure/revenue          6819 non-null   float64\n",
            " 10  Continuousinterestrateaftertax                   6819 non-null   float64\n",
            " 11  OperatingExpenseRate                             6819 non-null   float64\n",
            " 12  Researchanddevelopmentexpenserate                6819 non-null   float64\n",
            " 13  Cashflowrate                                     6819 non-null   float64\n",
            " 14  Interestbearingdebtinterestrate                  6819 non-null   float64\n",
            " 15  TaxrateA                                         6819 non-null   float64\n",
            " 16  NetValuePerShareB                                6819 non-null   float64\n",
            " 17  NetValuePerShareA                                6819 non-null   float64\n",
            " 18  NetValuePerShareC                                6819 non-null   float64\n",
            " 19  PersistentEPSintheLastFourSeasons                6819 non-null   float64\n",
            " 20  CashFlowPerShare                                 6819 non-null   float64\n",
            " 21  RevenuePerShareYuan¥                             6819 non-null   float64\n",
            " 22  OperatingProfitPerShareYuan¥                     6819 non-null   float64\n",
            " 23  PerShareNetprofitbeforetaxYuan¥                  6819 non-null   float64\n",
            " 24  RealizedSalesGrossProfitGrowthRate               6819 non-null   float64\n",
            " 25  OperatingProfitGrowthRate                        6819 non-null   float64\n",
            " 26  AftertaxNetProfitGrowthRate                      6819 non-null   float64\n",
            " 27  RegularNetProfitGrowthRate                       6819 non-null   float64\n",
            " 28  ContinuousNetProfitGrowthRate                    6819 non-null   float64\n",
            " 29  TotalAssetGrowthRate                             6819 non-null   float64\n",
            " 30  NetValueGrowthRate                               6819 non-null   float64\n",
            " 31  TotalAssetReturnGrowthRateRatio                  6819 non-null   float64\n",
            " 32  CashReinvestmentPercentage                       6819 non-null   float64\n",
            " 33  CurrentRatio                                     6819 non-null   float64\n",
            " 34  QuickRatio                                       6819 non-null   float64\n",
            " 35  InterestExpenseRatio                             6819 non-null   float64\n",
            " 36  Totaldebt/Totalnetworth                          6819 non-null   float64\n",
            " 37  DebtratioPercentage                              6819 non-null   float64\n",
            " 38  Networth/Assets                                  6819 non-null   float64\n",
            " 39  LongtermfundsuitabilityratioA                    6819 non-null   float64\n",
            " 40  Borrowingdependency                              6819 non-null   float64\n",
            " 41  Contingentliabilities/Networth                   6819 non-null   float64\n",
            " 42  Operatingprofit/Paidincapital                    6819 non-null   float64\n",
            " 43  Netprofitbeforetax/Paidincapital                 6819 non-null   float64\n",
            " 44  Inventoryandaccountsreceivable/Netvalue          6819 non-null   float64\n",
            " 45  TotalAssetTurnover                               6819 non-null   float64\n",
            " 46  AccountsReceivableTurnover                       6819 non-null   float64\n",
            " 47  AverageCollectionDays                            6819 non-null   float64\n",
            " 48  InventoryTurnoverRatetimes                       6819 non-null   float64\n",
            " 49  FixedAssetsTurnoverFrequency                     6819 non-null   float64\n",
            " 50  NetWorthTurnoverRatetimes                        6819 non-null   float64\n",
            " 51  Revenueperperson                                 6819 non-null   float64\n",
            " 52  Operatingprofitperperson                         6819 non-null   float64\n",
            " 53  Allocationrateperperson                          6819 non-null   float64\n",
            " 54  WorkingCapitaltoTotalAssets                      6819 non-null   float64\n",
            " 55  QuickAssets/TotalAssets                          6819 non-null   float64\n",
            " 56  CurrentAssets/TotalAssets                        6819 non-null   float64\n",
            " 57  Cash/TotalAssets                                 6819 non-null   float64\n",
            " 58  QuickAssets/CurrentLiability                     6819 non-null   float64\n",
            " 59  Cash/CurrentLiability                            6819 non-null   float64\n",
            " 60  CurrentLiabilitytoAssets                         6819 non-null   float64\n",
            " 61  OperatingFundstoLiability                        6819 non-null   float64\n",
            " 62  Inventory/WorkingCapital                         6819 non-null   float64\n",
            " 63  Inventory/CurrentLiability                       6819 non-null   float64\n",
            " 64  CurrentLiabilities/Liability                     6819 non-null   float64\n",
            " 65  WorkingCapital/Equity                            6819 non-null   float64\n",
            " 66  CurrentLiabilities/Equity                        6819 non-null   float64\n",
            " 67  LongtermLiabilitytoCurrentAssets                 6819 non-null   float64\n",
            " 68  RetainedEarningstoTotalAssets                    6819 non-null   float64\n",
            " 69  Totalincome/Totalexpense                         6819 non-null   float64\n",
            " 70  Totalexpense/Assets                              6819 non-null   float64\n",
            " 71  CurrentAssetTurnoverRate                         6819 non-null   float64\n",
            " 72  QuickAssetTurnoverRate                           6819 non-null   float64\n",
            " 73  WorkingcapitcalTurnoverRate                      6819 non-null   float64\n",
            " 74  CashTurnoverRate                                 6819 non-null   float64\n",
            " 75  CashFlowtoSales                                  6819 non-null   float64\n",
            " 76  FixedAssetstoAssets                              6819 non-null   float64\n",
            " 77  CurrentLiabilitytoLiability                      6819 non-null   float64\n",
            " 78  CurrentLiabilitytoEquity                         6819 non-null   float64\n",
            " 79  EquitytoLongtermLiability                        6819 non-null   float64\n",
            " 80  CashFlowtoTotalAssets                            6819 non-null   float64\n",
            " 81  CashFlowtoLiability                              6819 non-null   float64\n",
            " 82  CFOtoAssets                                      6819 non-null   float64\n",
            " 83  CashFlowtoEquity                                 6819 non-null   float64\n",
            " 84  CurrentLiabilitytoCurrentAssets                  6819 non-null   float64\n",
            " 85  LiabilityAssetsFlag                              6819 non-null   int64  \n",
            " 86  NetIncometoTotalAssets                           6819 non-null   float64\n",
            " 87  TotalassetstoGNPprice                            6819 non-null   float64\n",
            " 88  NocreditInterval                                 6819 non-null   float64\n",
            " 89  GrossProfittoSales                               6819 non-null   float64\n",
            " 90  NetIncometoStockholder'sEquity                   6819 non-null   float64\n",
            " 91  LiabilitytoEquity                                6819 non-null   float64\n",
            " 92  DegreeofFinancialLeverageDFL                     6819 non-null   float64\n",
            " 93  InterestCoverageRatioInterestexpensetoEBIT       6819 non-null   float64\n",
            " 94  NetIncomeFlag                                    6819 non-null   int64  \n",
            " 95  EquitytoLiability                                6819 non-null   float64\n",
            "dtypes: float64(93), int64(3)\n",
            "memory usage: 5.0 MB\n"
          ]
        }
      ]
    },
    {
      "cell_type": "code",
      "source": [
        "#checking for duplicacy in the dataset\n",
        "df.duplicated().sum()"
      ],
      "metadata": {
        "colab": {
          "base_uri": "https://localhost:8080/"
        },
        "id": "iAOVAjUWfxhx",
        "outputId": "fee3542d-0494-4299-fdfc-6bab6239ebbe"
      },
      "execution_count": 100,
      "outputs": [
        {
          "output_type": "execute_result",
          "data": {
            "text/plain": [
              "0"
            ]
          },
          "metadata": {},
          "execution_count": 100
        }
      ]
    },
    {
      "cell_type": "markdown",
      "source": [
        "**The dataset doesn't contain any duplicate rows**"
      ],
      "metadata": {
        "id": "5a7wJNL-f3MU"
      }
    },
    {
      "cell_type": "code",
      "source": [
        "#Finding null values if any\n",
        "df.isnull().sum().sort_values(ascending=False).head()"
      ],
      "metadata": {
        "colab": {
          "base_uri": "https://localhost:8080/"
        },
        "id": "phulLOBwfQ9r",
        "outputId": "6fc07eac-6690-43f4-c3ad-2f449f23c641"
      },
      "execution_count": 101,
      "outputs": [
        {
          "output_type": "execute_result",
          "data": {
            "text/plain": [
              "Bankrupt?                                          0\n",
              "ROACbeforeinterestanddepreciationbeforeinterest    0\n",
              "Totalexpense/Assets                                0\n",
              "Totalincome/Totalexpense                           0\n",
              "RetainedEarningstoTotalAssets                      0\n",
              "dtype: int64"
            ]
          },
          "metadata": {},
          "execution_count": 101
        }
      ]
    },
    {
      "cell_type": "markdown",
      "source": [
        "**Since there are no missing values, we can jump into analyzing the data**"
      ],
      "metadata": {
        "id": "3z6aPdusff-b"
      }
    },
    {
      "cell_type": "code",
      "source": [
        "#finding number of bankrupt companies\n",
        "sns.countplot('Bankrupt?',data=df,palette ='Accent')"
      ],
      "metadata": {
        "colab": {
          "base_uri": "https://localhost:8080/",
          "height": 296
        },
        "id": "N4HpQXYxflzM",
        "outputId": "e2215310-0167-4806-f0e6-42a1b9ae21e6"
      },
      "execution_count": 102,
      "outputs": [
        {
          "output_type": "execute_result",
          "data": {
            "text/plain": [
              "<matplotlib.axes._subplots.AxesSubplot at 0x7fafcf574c10>"
            ]
          },
          "metadata": {},
          "execution_count": 102
        },
        {
          "output_type": "display_data",
          "data": {
            "text/plain": [
              "<Figure size 432x288 with 1 Axes>"
            ],
            "image/png": "[encoded data removed]"
          },
          "metadata": {
            "needs_background": "light"
          }
        }
      ]
    },
    {
      "cell_type": "markdown",
      "source": [
        "The records are observed to be highly imbalanced. Thus it is necessary to consider balancing the dataset through \"Upsampling or Downsampling\" techniques.\n",
        "\n",
        "Through df.info(), we observed that we have a majority of \"float64\" data. The categorical data is distinguished as binary 1 and 0, thus stored as \"int64\". We separate the numeric and categoric data to analyze our dataset."
      ],
      "metadata": {
        "id": "fkx1Q0C7lLtf"
      }
    },
    {
      "cell_type": "code",
      "source": [
        "numeric_features = df.dtypes[df.dtypes != 'int64'].index\n",
        "categorical_features = df.dtypes[df.dtypes == 'int64'].index\n",
        "\n",
        "df[categorical_features].columns.tolist()"
      ],
      "metadata": {
        "colab": {
          "base_uri": "https://localhost:8080/"
        },
        "id": "o2FPTVmNl4r7",
        "outputId": "5eaff350-7a2d-4ba4-8660-985373775b80"
      },
      "execution_count": 103,
      "outputs": [
        {
          "output_type": "execute_result",
          "data": {
            "text/plain": [
              "['Bankrupt?', 'LiabilityAssetsFlag', 'NetIncomeFlag']"
            ]
          },
          "metadata": {},
          "execution_count": 103
        }
      ]
    },
    {
      "cell_type": "markdown",
      "source": [
        "**There are only three categorical data columns, we will first explore these columns**"
      ],
      "metadata": {
        "id": "eQ_cKNWlmKJm"
      }
    },
    {
      "cell_type": "code",
      "source": [
        "#Plotting count of liability-assets flag\n",
        "print(df['LiabilityAssetsFlag'].value_counts())\n",
        "sns.countplot('LiabilityAssetsFlag',data=df,palette ='twilight')"
      ],
      "metadata": {
        "id": "kfK0hKl-qHAI",
        "colab": {
          "base_uri": "https://localhost:8080/",
          "height": 348
        },
        "outputId": "b4fdede6-f074-4aa2-a1c8-466e70680d5a"
      },
      "execution_count": 104,
      "outputs": [
        {
          "output_type": "stream",
          "name": "stdout",
          "text": [
            "0    6811\n",
            "1       8\n",
            "Name: LiabilityAssetsFlag, dtype: int64\n"
          ]
        },
        {
          "output_type": "execute_result",
          "data": {
            "text/plain": [
              "<matplotlib.axes._subplots.AxesSubplot at 0x7fafcf49c550>"
            ]
          },
          "metadata": {},
          "execution_count": 104
        },
        {
          "output_type": "display_data",
          "data": {
            "text/plain": [
              "<Figure size 432x288 with 1 Axes>"
            ],
            "image/png": "[encoded data removed]"
          },
          "metadata": {
            "needs_background": "light"
          }
        }
      ]
    },
    {
      "cell_type": "markdown",
      "source": [
        "**The \"Liability-Assets\" flag denotes the status of an organization, where if the total liability exceeds total assets, the flagged value will be 1, else the value is 0. A majority number of times, organizations/company's assets are more than their liabilities.**"
      ],
      "metadata": {
        "id": "GnvrfkRvohYk"
      }
    },
    {
      "cell_type": "code",
      "source": [
        "#Finding bankrupt companies on the basis of liability-assets flag\n",
        "print(df[['LiabilityAssetsFlag','Bankrupt?']].value_counts())\n",
        "sns.countplot(x = 'LiabilityAssetsFlag',hue = 'Bankrupt?',data = df,palette = 'twilight')"
      ],
      "metadata": {
        "colab": {
          "base_uri": "https://localhost:8080/",
          "height": 401
        },
        "id": "eG9JbK6WuaIr",
        "outputId": "36c80904-e07b-4a54-cc29-ddbee16e9edd"
      },
      "execution_count": 105,
      "outputs": [
        {
          "output_type": "stream",
          "name": "stdout",
          "text": [
            "LiabilityAssetsFlag  Bankrupt?\n",
            "0                    0            6597\n",
            "                     1             214\n",
            "1                    1               6\n",
            "                     0               2\n",
            "dtype: int64\n"
          ]
        },
        {
          "output_type": "execute_result",
          "data": {
            "text/plain": [
              "<matplotlib.axes._subplots.AxesSubplot at 0x7fafcf907fd0>"
            ]
          },
          "metadata": {},
          "execution_count": 105
        },
        {
          "output_type": "display_data",
          "data": {
            "text/plain": [
              "<Figure size 432x288 with 1 Axes>"
            ],
            "image/png": "[encoded data removed]"
          },
          "metadata": {
            "needs_background": "light"
          }
        }
      ]
    },
    {
      "cell_type": "markdown",
      "source": [
        "**A small portion of organizations suffers bankruptcy, although possessing more assets than their liabilities.**"
      ],
      "metadata": {
        "id": "2Q17dyidqH6y"
      }
    },
    {
      "cell_type": "code",
      "source": [
        "#Plotting total count of net income flag\n",
        "print(df['NetIncomeFlag'].value_counts())\n",
        "sns.countplot('NetIncomeFlag',data=df,palette = 'Oranges')"
      ],
      "metadata": {
        "colab": {
          "base_uri": "https://localhost:8080/",
          "height": 331
        },
        "id": "onQVWvG5qtvD",
        "outputId": "4f38d4e5-8a70-412b-a730-606ea52cfc14"
      },
      "execution_count": 106,
      "outputs": [
        {
          "output_type": "stream",
          "name": "stdout",
          "text": [
            "1    6819\n",
            "Name: NetIncomeFlag, dtype: int64\n"
          ]
        },
        {
          "output_type": "execute_result",
          "data": {
            "text/plain": [
              "<matplotlib.axes._subplots.AxesSubplot at 0x7fafd26de4d0>"
            ]
          },
          "metadata": {},
          "execution_count": 106
        },
        {
          "output_type": "display_data",
          "data": {
            "text/plain": [
              "<Figure size 432x288 with 1 Axes>"
            ],
            "image/png": "[encoded data removed]"
          },
          "metadata": {
            "needs_background": "light"
          }
        }
      ]
    },
    {
      "cell_type": "markdown",
      "source": [
        "**The \"Net Income\" flag denotes the status of an organization's income in the last two years, where if the net income is negative for the past two years, the flagged value will be 1, else the value is 0. We observe that all the records have been exhibiting a loss for the past two years.**"
      ],
      "metadata": {
        "id": "SX1M4yqTraeT"
      }
    },
    {
      "cell_type": "code",
      "source": [
        "#Finding bankrupt companies on the basis of net income flag\n",
        "print(df[['NetIncomeFlag','Bankrupt?']].value_counts())\n",
        "sns.countplot(x = 'NetIncomeFlag',hue = 'Bankrupt?',data = df,palette = 'twilight')"
      ],
      "metadata": {
        "colab": {
          "base_uri": "https://localhost:8080/",
          "height": 366
        },
        "id": "MlrA4HVkq41H",
        "outputId": "470aa3b9-227f-4885-9990-5c6643b8046a"
      },
      "execution_count": 107,
      "outputs": [
        {
          "output_type": "stream",
          "name": "stdout",
          "text": [
            "NetIncomeFlag  Bankrupt?\n",
            "1              0            6599\n",
            "               1             220\n",
            "dtype: int64\n"
          ]
        },
        {
          "output_type": "execute_result",
          "data": {
            "text/plain": [
              "<matplotlib.axes._subplots.AxesSubplot at 0x7fafcfa6f6d0>"
            ]
          },
          "metadata": {},
          "execution_count": 107
        },
        {
          "output_type": "display_data",
          "data": {
            "text/plain": [
              "<Figure size 432x288 with 1 Axes>"
            ],
            "image/png": "[encoded data removed]"
          },
          "metadata": {
            "needs_background": "light"
          }
        }
      ]
    },
    {
      "cell_type": "markdown",
      "source": [
        "**Many organizations that have suffered losses for the past two years have stabilized their business, thus avoiding bankruptcy.**"
      ],
      "metadata": {
        "id": "QlrcCIoAsryt"
      }
    },
    {
      "cell_type": "code",
      "source": [
        "#For the sake of simplicity, we analyze the six top positively and negatively correlated attributes\n",
        "\n",
        "positive_corr = df[numeric_features].corrwith(df[\"Bankrupt?\"]).sort_values(ascending=False)[:6].index.tolist()\n",
        "negative_corr = df[numeric_features].corrwith(df[\"Bankrupt?\"]).sort_values()[:6].index.tolist()\n",
        "\n",
        "positive_corr = df[positive_corr + [\"Bankrupt?\"]].copy()\n",
        "negative_corr = df[negative_corr + [\"Bankrupt?\"]].copy()"
      ],
      "metadata": {
        "id": "CgdR3xVDsBKz"
      },
      "execution_count": 108,
      "outputs": []
    },
    {
      "cell_type": "code",
      "source": [
        "def corrbargraph(x_value, y_value):\n",
        "    \n",
        "    plt.figure(figsize=(15,8))\n",
        "    colors=['rainbow', 'RdBu_r']\n",
        "    value = randint(0, len(colors)-1)\n",
        "\n",
        "    for i in range(1,7):\n",
        "        plt.subplot(2,3,i)  \n",
        "        sns.barplot(x = x_value, y = y_value[i-1],data = df,palette = colors[value])\n",
        "\n",
        "    plt.tight_layout(pad=0.5)"
      ],
      "metadata": {
        "id": "M8dyPF0nyezN"
      },
      "execution_count": 109,
      "outputs": []
    },
    {
      "cell_type": "code",
      "source": [
        "x_value = positive_corr.columns.tolist()[-1]\n",
        "y_value = positive_corr.columns.tolist()[:-1]\n",
        "\n",
        "corrbargraph(x_value, y_value)"
      ],
      "metadata": {
        "colab": {
          "base_uri": "https://localhost:8080/",
          "height": 597
        },
        "id": "lTP8wv1Xze4M",
        "outputId": "923fe657-aaae-4f4f-a232-0255fa83b15f"
      },
      "execution_count": 110,
      "outputs": [
        {
          "output_type": "display_data",
          "data": {
            "text/plain": [
              "<Figure size 1080x576 with 6 Axes>"
            ],
            "image/png": "[encoded data removed]"
          },
          "metadata": {
            "needs_background": "light"
          }
        }
      ]
    },
    {
      "cell_type": "markdown",
      "source": [
        "**We see that three attributes - \"Debt Ratio %, Current Liability To Assets, Current Liability To Current Assets\" are commonly high in bankrupt organizations.**"
      ],
      "metadata": {
        "id": "krJyh3sb1AwG"
      }
    },
    {
      "cell_type": "code",
      "source": [
        "x_value = negative_corr.columns.tolist()[-1]\n",
        "y_value = negative_corr.columns.tolist()[:-1]\n",
        "\n",
        "corrbargraph(x_value, y_value)"
      ],
      "metadata": {
        "colab": {
          "base_uri": "https://localhost:8080/",
          "height": 586
        },
        "id": "kXjldRRW1UVL",
        "outputId": "1dd9aadc-2c8d-4789-8fdc-a05743e24847"
      },
      "execution_count": 111,
      "outputs": [
        {
          "output_type": "display_data",
          "data": {
            "text/plain": [
              "<Figure size 1080x576 with 6 Axes>"
            ],
            "image/png": "[encoded data removed]"
          },
          "metadata": {
            "needs_background": "light"
          }
        }
      ]
    },
    {
      "cell_type": "markdown",
      "source": [
        "**These attributes show us that the more the assets and earing of a company, the less likely is the organization to be bankrupt.**"
      ],
      "metadata": {
        "id": "rmaf3i5v2f5k"
      }
    },
    {
      "cell_type": "code",
      "source": [
        "#Let us check the relation of top six positive and negative correlation attributes among eachother\n",
        "plt.figure(figsize=(15,4))\n",
        "\n",
        "plt.suptitle(\"Correlation Between Positive Attributes\")\n",
        "\n",
        "plt.subplot(1,2,1)\n",
        "plt.xlabel(\"Debt Ratio\")\n",
        "plt.ylabel(\"Current Liability To Assets Ratio\")\n",
        "plt.scatter(df[\"DebtratioPercentage\"],df[\"CurrentLiabilitytoAssets\"], marker='o',color = 'red')\n",
        "\n",
        "plt.subplot(1,2,2)\n",
        "plt.xlabel(\"Borrowing Dependency\")\n",
        "plt.ylabel(\"Liability To Equity Ratio\")\n",
        "plt.scatter(df[\"Borrowingdependency\"],df[\"LiabilitytoEquity\"], marker='o',color = 'red')\n",
        "\n",
        "plt.tight_layout(pad=2.5)"
      ],
      "metadata": {
        "colab": {
          "base_uri": "https://localhost:8080/",
          "height": 288
        },
        "id": "1vZB4DQQ2jwA",
        "outputId": "44eec561-ea09-48ae-90d1-b86b581b26ee"
      },
      "execution_count": 113,
      "outputs": [
        {
          "output_type": "display_data",
          "data": {
            "text/plain": [
              "<Figure size 1080x288 with 2 Axes>"
            ],
            "image/png": "[encoded data removed]"
          },
          "metadata": {
            "needs_background": "light"
          }
        }
      ]
    },
    {
      "cell_type": "markdown",
      "source": [
        "**There is a positive relation between attributes that have a high correlation with the target attribute.**"
      ],
      "metadata": {
        "id": "tpS9drdj6p1d"
      }
    },
    {
      "cell_type": "code",
      "source": [
        "plt.figure(figsize=(15,4))\n",
        "\n",
        "plt.suptitle(\"Correlation Between Negative Attributes\")\n",
        "\n",
        "plt.subplot(1,2,1)\n",
        "plt.xlabel(\"ROA (A)\")\n",
        "plt.ylabel(\"ROA (B)\")\n",
        "plt.scatter(df[\"ROAAbeforeinterestandPercentageaftertax\"],df[\"ROABbeforeinterestanddepreciationaftertax\"], marker='o',color = 'red')\n",
        "\n",
        "\n",
        "plt.subplot(1,2,2)\n",
        "plt.xlabel(\"ROA (B)\")\n",
        "plt.ylabel(\"ROA (C)\")\n",
        "plt.scatter(df[\"ROABbeforeinterestanddepreciationaftertax\"],df[\"ROACbeforeinterestanddepreciationbeforeinterest\"], marker='o',color = 'red')\n",
        "\n",
        "\n",
        "plt.tight_layout(pad=2.5)"
      ],
      "metadata": {
        "colab": {
          "base_uri": "https://localhost:8080/",
          "height": 288
        },
        "id": "JM8X1tLE6oFH",
        "outputId": "868a21af-754a-4cc6-d1b2-a4dedb2d35f6"
      },
      "execution_count": 4,
      "outputs": [
        {
          "output_type": "display_data",
          "data": {
            "text/plain": [
              "<Figure size 1080x288 with 2 Axes>"
            ],
            "image/png": "[encoded data removed]"
          },
          "metadata": {
            "needs_background": "light"
          }
        }
      ]
    },
    {
      "cell_type": "markdown",
      "source": [
        "**There is a positive relation between attributes that have a low correlation with the target attribute.**"
      ],
      "metadata": {
        "id": "hOcb5S0qD_fx"
      }
    },
    {
      "cell_type": "markdown",
      "source": [
        "# **4. Data Modeling**"
      ],
      "metadata": {
        "id": "4hxobqhfD5_I"
      }
    },
    {
      "cell_type": "code",
      "source": [
        "#normalizing data\n",
        "numeric_features = df.dtypes[df.dtypes != 'int64'].index\n",
        "df[numeric_features] = df[numeric_features].apply(lambda x: (x - x.mean()) / (x.std()))\n",
        "\n",
        "df[numeric_features] = df[numeric_features].fillna(0)"
      ],
      "metadata": {
        "id": "BFemO05O30Ji"
      },
      "execution_count": 5,
      "outputs": []
    },
    {
      "cell_type": "markdown",
      "source": [
        "**The numeric attributes have been normalized.**"
      ],
      "metadata": {
        "id": "75BtbcXkElJn"
      }
    },
    {
      "cell_type": "markdown",
      "source": [
        "**Our dataset is highly imbalanced. Thus before training the model, we need to deal with this data. Let us lay down some steps we must follow when we come across an imbalanced dataset.**\n",
        "\n",
        "*  Split the dataset into training and testing sets (80% - 20%). We preserve the 20% testing set for the final evaluation.\n",
        "\n",
        "*  Through \"Stratified K Fold Cross-Validation\" we will now distribute the 80% training set into further training and testing splits.\n",
        "*  Since we are dealing with over 50 features, we use \"Randomized Search Cross-Validation\" as this technique proves to perform better with many features."
      ],
      "metadata": {
        "id": "r0nKIkOyErIl"
      }
    },
    {
      "cell_type": "code",
      "source": [
        "# Training the Model\n",
        "Models = pd.DataFrame(columns=['Algorithm','Model Score','Precision','Recall','F1 score','ROC-AUC score'])\n",
        "\n",
        "def taining_without_feature_selection(Parameters, Model, Dataframe, Modelname):\n",
        "    \n",
        "    data = Dataframe.copy()\n",
        "    \n",
        "    X = data.drop('Bankrupt?', axis=1)\n",
        "    y = data['Bankrupt?']\n",
        "    \n",
        "    #Traditional split of the dataset 80% - 20%\n",
        "    x_train, x_test, y_train, y_test = train_test_split(X, y, test_size=0.2, random_state=42)\n",
        "    \n",
        "    x_train, x_test, y_train, y_test = x_train.values, x_test.values, y_train.values, y_test.values\n",
        "\n",
        "    #Proportional split of 80% data with respect to the class of the target feature ie. [1,0]\n",
        "    sf = StratifiedKFold(n_splits=5, random_state=None, shuffle=False)\n",
        "\n",
        "    for train_index, test_index in sf.split(x_train, y_train):\n",
        "        sf_x_train, sf_x_test = X.iloc[train_index], X.iloc[test_index]\n",
        "        sf_y_train, sf_y_test = y.iloc[train_index], y.iloc[test_index]\n",
        "\n",
        "    sf_x_train, sf_x_test, sf_y_train, sf_y_test = sf_x_train.values, sf_x_test.values, sf_y_train.values, sf_y_test.values\n",
        "    \n",
        "    model_parameter_sm = Parameters\n",
        "\n",
        "    rand_model = RandomizedSearchCV(Model, model_parameter_sm, n_iter=4)\n",
        "     \n",
        "    #Identifying the best parameters through RandomizedSearchCV()\n",
        "    for train, test in sf.split(sf_x_train, sf_y_train):\n",
        "        pipeline = imbalanced_make_pipeline(SMOTE(sampling_strategy='minority'), rand_model) \n",
        "        fitting_model = pipeline.fit(sf_x_train[train], sf_y_train[train])\n",
        "        best_model = rand_model.best_estimator_\n",
        "\n",
        "    #Evaluation with against 20% unseen testing data\n",
        "    print()\n",
        "    print(\"Evaluation Of Models\")  \n",
        "\n",
        "    sm = SMOTE(sampling_strategy='minority', random_state=42)\n",
        "    Xsm_train, ysm_train = sm.fit_resample(sf_x_train, sf_y_train)\n",
        "    \n",
        "    print()\n",
        "    print(\"Random Model Evaluation\")  \n",
        "    \n",
        "    final_model_sm = rand_model.best_estimator_\n",
        "    final_model_sm.fit(Xsm_train, ysm_train)\n",
        "\n",
        "    prediction = final_model_sm.predict(x_test)\n",
        "\n",
        "    print(classification_report(y_test, prediction))\n",
        "    \n",
        "    model = {}\n",
        "\n",
        "    model['Algorithm'] = Modelname\n",
        "    model['Model Score'] = str(round((accuracy_score(y_test, prediction)*100),2)) + \"%\"\n",
        "    model['Precision'] = round(precision_score(y_test, prediction),2)\n",
        "    model['Recall'] = round(recall_score(y_test, prediction),2)\n",
        "    model['F1 score'] = round(f1_score(y_test, prediction),2)\n",
        "    model['ROC-AUC score'] = round(roc_auc_score(y_test, prediction),2)\n",
        "    \n",
        "    return model"
      ],
      "metadata": {
        "id": "EQDNljQZFYtG"
      },
      "execution_count": 6,
      "outputs": []
    },
    {
      "cell_type": "markdown",
      "source": [
        "**Applying Different Algorithms**"
      ],
      "metadata": {
        "id": "pzocazziG4FO"
      }
    },
    {
      "cell_type": "code",
      "source": [
        "#K Nearest Neighbour\n",
        "print(\"K Nearest Neighbour\")\n",
        "TrainedModel = taining_without_feature_selection({\"n_neighbors\": list(range(2,5,1)), 'algorithm': ['auto', 'ball_tree', 'kd_tree', 'brute']}, KNeighborsClassifier(), df,\"K Nearest Neighbour\")\n",
        "Models = Models.append(TrainedModel,ignore_index=True)"
      ],
      "metadata": {
        "colab": {
          "base_uri": "https://localhost:8080/"
        },
        "id": "wOqETzMvHA23",
        "outputId": "d015d53e-5a00-45e2-a724-1b29d8f53da6"
      },
      "execution_count": 16,
      "outputs": [
        {
          "output_type": "stream",
          "name": "stdout",
          "text": [
            "K Nearest Neighbour\n",
            "\n",
            "Evaluation Of Models\n",
            "\n",
            "Random Model Evaluation\n",
            "              precision    recall  f1-score   support\n",
            "\n",
            "           0       1.00      0.98      0.99      1313\n",
            "           1       0.67      0.94      0.78        51\n",
            "\n",
            "    accuracy                           0.98      1364\n",
            "   macro avg       0.83      0.96      0.89      1364\n",
            "weighted avg       0.99      0.98      0.98      1364\n",
            "\n"
          ]
        }
      ]
    },
    {
      "cell_type": "code",
      "source": [
        "#Logistic Regression\n",
        "print(\"Logistic Regression\")\n",
        "TrainedModel = taining_without_feature_selection({\"penalty\": ['l2'], 'C': [0.001, 0.01, 0.1, 1, 10, 100, 1000]}, LogisticRegression(solver='liblinear'), df, \"Logistic Regression\")\n",
        "Models = Models.append(TrainedModel,ignore_index=True)"
      ],
      "metadata": {
        "colab": {
          "base_uri": "https://localhost:8080/"
        },
        "id": "wfqDwlUNHfrb",
        "outputId": "48840493-4bcc-4fc5-d312-3cbdff5d77de"
      },
      "execution_count": 9,
      "outputs": [
        {
          "output_type": "stream",
          "name": "stdout",
          "text": [
            "Logistic Regression\n",
            "\n",
            "Evaluation Of Models\n",
            "\n",
            "Random Model Evaluation\n",
            "              precision    recall  f1-score   support\n",
            "\n",
            "           0       0.99      0.89      0.94      1313\n",
            "           1       0.23      0.82      0.36        51\n",
            "\n",
            "    accuracy                           0.89      1364\n",
            "   macro avg       0.61      0.86      0.65      1364\n",
            "weighted avg       0.96      0.89      0.92      1364\n",
            "\n"
          ]
        }
      ]
    },
    {
      "cell_type": "code",
      "source": [
        "#DecisionTree Classifier\n",
        "print(\"DecisionTree Classifier\")\n",
        "TrainedModel = taining_without_feature_selection({\"criterion\": [\"gini\", \"entropy\"], \"max_depth\": list(range(2,4,1)),\"min_samples_leaf\": list(range(5,7,1))}, DecisionTreeClassifier(), df, \"DecisionTree Classifier\")\n",
        "Models = Models.append(TrainedModel,ignore_index=True)"
      ],
      "metadata": {
        "colab": {
          "base_uri": "https://localhost:8080/"
        },
        "id": "Yhu2IG18JVnZ",
        "outputId": "5f2bc0ba-2665-488d-c1dd-6cdf308f3973"
      },
      "execution_count": 10,
      "outputs": [
        {
          "output_type": "stream",
          "name": "stdout",
          "text": [
            "DecisionTree Classifier\n",
            "\n",
            "Evaluation Of Models\n",
            "\n",
            "Random Model Evaluation\n",
            "              precision    recall  f1-score   support\n",
            "\n",
            "           0       1.00      0.84      0.91      1313\n",
            "           1       0.18      0.90      0.31        51\n",
            "\n",
            "    accuracy                           0.85      1364\n",
            "   macro avg       0.59      0.87      0.61      1364\n",
            "weighted avg       0.97      0.85      0.89      1364\n",
            "\n"
          ]
        }
      ]
    },
    {
      "cell_type": "code",
      "source": [
        "#Random Forest Classifier\n",
        "print(\"Random Forest Classifier\")\n",
        "TrainedModel = taining_without_feature_selection({\"max_depth\": [3, 5, 10, None],\"n_estimators\": [100, 200, 300, 400, 500]},  RandomForestClassifier(), df, \"Random Forest Classifier\")\n",
        "Models = Models.append(TrainedModel,ignore_index=True)"
      ],
      "metadata": {
        "colab": {
          "base_uri": "https://localhost:8080/"
        },
        "id": "kjgiMM0WJppv",
        "outputId": "788d019c-47d7-4ac8-8bae-6aa1947d22f0"
      },
      "execution_count": 11,
      "outputs": [
        {
          "output_type": "stream",
          "name": "stdout",
          "text": [
            "Random Forest Classifier\n",
            "\n",
            "Evaluation Of Models\n",
            "\n",
            "Random Model Evaluation\n",
            "              precision    recall  f1-score   support\n",
            "\n",
            "           0       1.00      0.99      0.99      1313\n",
            "           1       0.81      0.92      0.86        51\n",
            "\n",
            "    accuracy                           0.99      1364\n",
            "   macro avg       0.90      0.96      0.93      1364\n",
            "weighted avg       0.99      0.99      0.99      1364\n",
            "\n"
          ]
        }
      ]
    },
    {
      "cell_type": "code",
      "source": [
        "#Support Vector Classifier\n",
        "print(\"Support Vector Classifier\")\n",
        "TrainedModel = taining_without_feature_selection({'C': [1,10,20],'kernel': ['rbf','linear']},  SVC(), df, \"Support Vector Classifier\")\n",
        "Models = Models.append(TrainedModel,ignore_index=True)"
      ],
      "metadata": {
        "colab": {
          "base_uri": "https://localhost:8080/"
        },
        "id": "yrAKR-jeJ27x",
        "outputId": "dbc78d83-e277-4325-f766-89897b22c1f5"
      },
      "execution_count": 12,
      "outputs": [
        {
          "output_type": "stream",
          "name": "stdout",
          "text": [
            "Support Vector Classifier\n",
            "\n",
            "Evaluation Of Models\n",
            "\n",
            "Random Model Evaluation\n",
            "              precision    recall  f1-score   support\n",
            "\n",
            "           0       1.00      0.94      0.97      1313\n",
            "           1       0.40      0.94      0.56        51\n",
            "\n",
            "    accuracy                           0.94      1364\n",
            "   macro avg       0.70      0.94      0.76      1364\n",
            "weighted avg       0.98      0.94      0.95      1364\n",
            "\n"
          ]
        }
      ]
    },
    {
      "cell_type": "markdown",
      "source": [
        "# **5. Comparison of Models**"
      ],
      "metadata": {
        "id": "0nPqFPNYKdW1"
      }
    },
    {
      "cell_type": "code",
      "source": [
        "Models.sort_values('F1 score',ascending=False)"
      ],
      "metadata": {
        "colab": {
          "base_uri": "https://localhost:8080/",
          "height": 238
        },
        "id": "esHvyeccK9y1",
        "outputId": "4624b4ec-2a30-41de-a9ad-e33d51bcde37"
      },
      "execution_count": 19,
      "outputs": [
        {
          "output_type": "execute_result",
          "data": {
            "text/plain": [
              "                   Algorithm Model Score  Precision  Recall  F1 score  \\\n",
              "3   Random Forest Classifier       98.9%       0.81    0.92      0.86   \n",
              "5        K Nearest Neighbour      98.02%       0.67    0.94      0.78   \n",
              "4  Support Vector Classifier      94.43%       0.40    0.94      0.56   \n",
              "0        K Nearest Neighbour      93.55%       0.36    0.98      0.53   \n",
              "1        Logistic Regression      88.86%       0.23    0.82      0.36   \n",
              "2    DecisionTree Classifier      84.68%       0.18    0.90      0.31   \n",
              "\n",
              "   ROC-AUC score  \n",
              "3           0.96  \n",
              "5           0.96  \n",
              "4           0.94  \n",
              "0           0.96  \n",
              "1           0.86  \n",
              "2           0.87  "
            ],
            "text/html": [
              "\n",
              "  <div id=\"df-d791f37b-72a4-4f64-84ec-95ac48fa69f0\">\n",
              "    <div class=\"colab-df-container\">\n",
              "      <div>\n",
              "<style scoped>\n",
              "    .dataframe tbody tr th:only-of-type {\n",
              "        vertical-align: middle;\n",
              "    }\n",
              "\n",
              "    .dataframe tbody tr th {\n",
              "        vertical-align: top;\n",
              "    }\n",
              "\n",
              "    .dataframe thead th {\n",
              "        text-align: right;\n",
              "    }\n",
              "</style>\n",
              "<table border=\"1\" class=\"dataframe\">\n",
              "  <thead>\n",
              "    <tr style=\"text-align: right;\">\n",
              "      <th></th>\n",
              "      <th>Algorithm</th>\n",
              "      <th>Model Score</th>\n",
              "      <th>Precision</th>\n",
              "      <th>Recall</th>\n",
              "      <th>F1 score</th>\n",
              "      <th>ROC-AUC score</th>\n",
              "    </tr>\n",
              "  </thead>\n",
              "  <tbody>\n",
              "    <tr>\n",
              "      <th>3</th>\n",
              "      <td>Random Forest Classifier</td>\n",
              "      <td>98.9%</td>\n",
              "      <td>0.81</td>\n",
              "      <td>0.92</td>\n",
              "      <td>0.86</td>\n",
              "      <td>0.96</td>\n",
              "    </tr>\n",
              "    <tr>\n",
              "      <th>5</th>\n",
              "      <td>K Nearest Neighbour</td>\n",
              "      <td>98.02%</td>\n",
              "      <td>0.67</td>\n",
              "      <td>0.94</td>\n",
              "      <td>0.78</td>\n",
              "      <td>0.96</td>\n",
              "    </tr>\n",
              "    <tr>\n",
              "      <th>4</th>\n",
              "      <td>Support Vector Classifier</td>\n",
              "      <td>94.43%</td>\n",
              "      <td>0.40</td>\n",
              "      <td>0.94</td>\n",
              "      <td>0.56</td>\n",
              "      <td>0.94</td>\n",
              "    </tr>\n",
              "    <tr>\n",
              "      <th>0</th>\n",
              "      <td>K Nearest Neighbour</td>\n",
              "      <td>93.55%</td>\n",
              "      <td>0.36</td>\n",
              "      <td>0.98</td>\n",
              "      <td>0.53</td>\n",
              "      <td>0.96</td>\n",
              "    </tr>\n",
              "    <tr>\n",
              "      <th>1</th>\n",
              "      <td>Logistic Regression</td>\n",
              "      <td>88.86%</td>\n",
              "      <td>0.23</td>\n",
              "      <td>0.82</td>\n",
              "      <td>0.36</td>\n",
              "      <td>0.86</td>\n",
              "    </tr>\n",
              "    <tr>\n",
              "      <th>2</th>\n",
              "      <td>DecisionTree Classifier</td>\n",
              "      <td>84.68%</td>\n",
              "      <td>0.18</td>\n",
              "      <td>0.90</td>\n",
              "      <td>0.31</td>\n",
              "      <td>0.87</td>\n",
              "    </tr>\n",
              "  </tbody>\n",
              "</table>\n",
              "</div>\n",
              "      <button class=\"colab-df-convert\" onclick=\"convertToInteractive('df-d791f37b-72a4-4f64-84ec-95ac48fa69f0')\"\n",
              "              title=\"Convert this dataframe to an interactive table.\"\n",
              "              style=\"display:none;\">\n",
              "        \n",
              "  <svg xmlns=\"http://www.w3.org/2000/svg\" height=\"24px\"viewBox=\"0 0 24 24\"\n",
              "       width=\"24px\">\n",
              "    <path d=\"M0 0h24v24H0V0z\" fill=\"none\"/>\n",
              "    <path d=\"M18.56 5.44l.94 2.06.94-2.06 2.06-.94-2.06-.94-.94-2.06-.94 2.06-2.06.94zm-11 1L8.5 8.5l.94-2.06 2.06-.94-2.06-.94L8.5 2.5l-.94 2.06-2.06.94zm10 10l.94 2.06.94-2.06 2.06-.94-2.06-.94-.94-2.06-.94 2.06-2.06.94z\"/><path d=\"M17.41 7.96l-1.37-1.37c-.4-.4-.92-.59-1.43-.59-.52 0-1.04.2-1.43.59L10.3 9.45l-7.72 7.72c-.78.78-.78 2.05 0 2.83L4 21.41c.39.39.9.59 1.41.59.51 0 1.02-.2 1.41-.59l7.78-7.78 2.81-2.81c.8-.78.8-2.07 0-2.86zM5.41 20L4 18.59l7.72-7.72 1.47 1.35L5.41 20z\"/>\n",
              "  </svg>\n",
              "      </button>\n",
              "      \n",
              "  <style>\n",
              "    .colab-df-container {\n",
              "      display:flex;\n",
              "      flex-wrap:wrap;\n",
              "      gap: 12px;\n",
              "    }\n",
              "\n",
              "    .colab-df-convert {\n",
              "      background-color: #E8F0FE;\n",
              "      border: none;\n",
              "      border-radius: 50%;\n",
              "      cursor: pointer;\n",
              "      display: none;\n",
              "      fill: #1967D2;\n",
              "      height: 32px;\n",
              "      padding: 0 0 0 0;\n",
              "      width: 32px;\n",
              "    }\n",
              "\n",
              "    .colab-df-convert:hover {\n",
              "      background-color: #E2EBFA;\n",
              "      box-shadow: 0px 1px 2px rgba(60, 64, 67, 0.3), 0px 1px 3px 1px rgba(60, 64, 67, 0.15);\n",
              "      fill: #174EA6;\n",
              "    }\n",
              "\n",
              "    [theme=dark] .colab-df-convert {\n",
              "      background-color: #3B4455;\n",
              "      fill: #D2E3FC;\n",
              "    }\n",
              "\n",
              "    [theme=dark] .colab-df-convert:hover {\n",
              "      background-color: #434B5C;\n",
              "      box-shadow: 0px 1px 3px 1px rgba(0, 0, 0, 0.15);\n",
              "      filter: drop-shadow(0px 1px 2px rgba(0, 0, 0, 0.3));\n",
              "      fill: #FFFFFF;\n",
              "    }\n",
              "  </style>\n",
              "\n",
              "      <script>\n",
              "        const buttonEl =\n",
              "          document.querySelector('#df-d791f37b-72a4-4f64-84ec-95ac48fa69f0 button.colab-df-convert');\n",
              "        buttonEl.style.display =\n",
              "          google.colab.kernel.accessAllowed ? 'block' : 'none';\n",
              "\n",
              "        async function convertToInteractive(key) {\n",
              "          const element = document.querySelector('#df-d791f37b-72a4-4f64-84ec-95ac48fa69f0');\n",
              "          const dataTable =\n",
              "            await google.colab.kernel.invokeFunction('convertToInteractive',\n",
              "                                                     [key], {});\n",
              "          if (!dataTable) return;\n",
              "\n",
              "          const docLinkHtml = 'Like what you see? Visit the ' +\n",
              "            '<a target=\"_blank\" href=https://colab.research.google.com/notebooks/data_table.ipynb>data table notebook</a>'\n",
              "            + ' to learn more about interactive tables.';\n",
              "          element.innerHTML = '';\n",
              "          dataTable['output_type'] = 'display_data';\n",
              "          await google.colab.output.renderOutput(dataTable, element);\n",
              "          const docLink = document.createElement('div');\n",
              "          docLink.innerHTML = docLinkHtml;\n",
              "          element.appendChild(docLink);\n",
              "        }\n",
              "      </script>\n",
              "    </div>\n",
              "  </div>\n",
              "  "
            ]
          },
          "metadata": {},
          "execution_count": 19
        }
      ]
    },
    {
      "cell_type": "markdown",
      "source": [
        "**We see that among all the models \"Random Forest Classifier and K Nearest Neighbour\" have the highest F-1 Score. Thus, we may use these models to train our data.**"
      ],
      "metadata": {
        "id": "087wTH2ZKv3c"
      }
    },
    {
      "cell_type": "markdown",
      "source": [
        "# **6. Feature Selection**\n",
        "\n",
        "\"SelectKBest\" is used to select features that add the most value to the target variable"
      ],
      "metadata": {
        "id": "W6LVBkyTK1C8"
      }
    },
    {
      "cell_type": "code",
      "source": [
        "Models = pd.DataFrame(columns=['Algorithm','Model Score','Precision','Recall','F1 score','ROC-AUC score'])\n",
        "\n",
        "def taining_with_feature_selection(Parameters, Model, Dataframe, Modelname):\n",
        "    \n",
        "    data = Dataframe.copy()\n",
        "    \n",
        "    X = data.drop('Bankrupt?', axis=1)\n",
        "    y = data['Bankrupt?']\n",
        "    \n",
        "    '''\n",
        "    Feature Selection Process: \n",
        "    class sklearn.feature_selection.SelectKBest(score_func=<function>, k=<number of features>\n",
        "        score_func - Scoring measure\n",
        "        k - Total features to be returned \n",
        "    '''\n",
        "    \n",
        "    fs = SelectKBest(score_func=f_classif, k=int((data.shape[1]*85)/100))\n",
        "\n",
        "    X = fs.fit_transform(X, y)\n",
        "    \n",
        "    X = pd.DataFrame(X)\n",
        "    y = pd.DataFrame(y)\n",
        "    \n",
        "    x_train, x_test, y_train, y_test = train_test_split(X, y, test_size=0.2, random_state=42)\n",
        "    \n",
        "    x_train, x_test, y_train, y_test = x_train.values, x_test.values, y_train.values, y_test.values\n",
        "\n",
        "    sf = StratifiedKFold(n_splits=5, random_state=None, shuffle=False)\n",
        "\n",
        "    for train_index, test_index in sf.split(x_train, y_train):\n",
        "        sf_x_train, sf_x_test = X.iloc[train_index], X.iloc[test_index]\n",
        "        sf_y_train, sf_y_test = y.iloc[train_index], y.iloc[test_index]\n",
        "\n",
        "    sf_x_train, sf_x_test, sf_y_train, sf_y_test = sf_x_train.values, sf_x_test.values, sf_y_train.values, sf_y_test.values\n",
        "    \n",
        "    model_parameter_sm = Parameters\n",
        "\n",
        "    rand_model = RandomizedSearchCV(Model, model_parameter_sm, n_iter=4)\n",
        "\n",
        "    for train, test in sf.split(sf_x_train, sf_y_train):\n",
        "        pipeline = imbalanced_make_pipeline(SMOTE(sampling_strategy='minority'), rand_model) \n",
        "        fitting_model = pipeline.fit(sf_x_train[train], sf_y_train[train])\n",
        "        best_model = rand_model.best_estimator_\n",
        "\n",
        "    print()\n",
        "    print(\"Evaluation Of Models\")  \n",
        "\n",
        "    sm = SMOTE(sampling_strategy='minority', random_state=42)\n",
        "    Xsm_train, ysm_train = sm.fit_resample(sf_x_train, sf_y_train)\n",
        "    \n",
        "    print()\n",
        "    print(\"Random Model Evaluation\")  \n",
        "    \n",
        "    final_model_sm = rand_model.best_estimator_\n",
        "    final_model_sm.fit(Xsm_train, ysm_train)\n",
        "\n",
        "    prediction = final_model_sm.predict(x_test)\n",
        "\n",
        "    print(classification_report(y_test, prediction))\n",
        "    \n",
        "    model = {}\n",
        "\n",
        "    model['Algorithm'] = Modelname\n",
        "    model['Model Score'] = str(round((accuracy_score(y_test, prediction)*100),2)) + \"%\"\n",
        "    model['Precision'] = round(precision_score(y_test, prediction),2)\n",
        "    model['Recall'] = round(recall_score(y_test, prediction),2)\n",
        "    model['F1 score'] = round(f1_score(y_test, prediction),2)\n",
        "    model['ROC-AUC score'] = round(roc_auc_score(y_test, prediction),2)\n",
        "    \n",
        "    return model\n"
      ],
      "metadata": {
        "id": "9lzZLLeSUxgH"
      },
      "execution_count": 20,
      "outputs": []
    },
    {
      "cell_type": "code",
      "source": [
        "#Evaluating Random Forest Classifier\n",
        "print(\"Random Forest Classifier\")\n",
        "TrainedModel = taining_with_feature_selection({\"max_depth\": [3, 5, 10, None],\"n_estimators\": [100, 200, 300, 400, 500]},  RandomForestClassifier(), df, \"Random Forest Classifier\")\n",
        "Models = Models.append(TrainedModel,ignore_index=True)"
      ],
      "metadata": {
        "colab": {
          "base_uri": "https://localhost:8080/"
        },
        "id": "x-5NcFRaVaK9",
        "outputId": "1e506eea-c3ab-4c4d-8ede-d80e39ff66ac"
      },
      "execution_count": 21,
      "outputs": [
        {
          "output_type": "stream",
          "name": "stdout",
          "text": [
            "Random Forest Classifier\n",
            "\n",
            "Evaluation Of Models\n",
            "\n",
            "Random Model Evaluation\n",
            "              precision    recall  f1-score   support\n",
            "\n",
            "           0       1.00      0.99      0.99      1313\n",
            "           1       0.77      0.90      0.83        51\n",
            "\n",
            "    accuracy                           0.99      1364\n",
            "   macro avg       0.88      0.95      0.91      1364\n",
            "weighted avg       0.99      0.99      0.99      1364\n",
            "\n"
          ]
        }
      ]
    },
    {
      "cell_type": "code",
      "source": [
        "#Evaluating K Nearest Neighbour\n",
        "print(\"K Nearest Neighbour\")\n",
        "TrainedModel = taining_with_feature_selection({\"n_neighbors\": list(range(2,5,1)), 'algorithm': ['auto', 'ball_tree', 'kd_tree', 'brute']}, KNeighborsClassifier(), df,\"K Nearest Neighbour\")\n",
        "Models = Models.append(TrainedModel,ignore_index=True)"
      ],
      "metadata": {
        "colab": {
          "base_uri": "https://localhost:8080/"
        },
        "id": "trJjxKqhVnlr",
        "outputId": "97ceff27-24f4-4b56-e1e7-fe6449ec2b48"
      },
      "execution_count": 23,
      "outputs": [
        {
          "output_type": "stream",
          "name": "stdout",
          "text": [
            "K Nearest Neighbour\n",
            "\n",
            "Evaluation Of Models\n",
            "\n",
            "Random Model Evaluation\n",
            "              precision    recall  f1-score   support\n",
            "\n",
            "           0       1.00      0.98      0.99      1313\n",
            "           1       0.64      0.94      0.76        51\n",
            "\n",
            "    accuracy                           0.98      1364\n",
            "   macro avg       0.82      0.96      0.88      1364\n",
            "weighted avg       0.98      0.98      0.98      1364\n",
            "\n"
          ]
        }
      ]
    },
    {
      "cell_type": "code",
      "source": [
        "#Comparing Model Scores\n",
        "Models.sort_values('F1 score',ascending=False)"
      ],
      "metadata": {
        "colab": {
          "base_uri": "https://localhost:8080/",
          "height": 112
        },
        "id": "Y_34zFPFV121",
        "outputId": "07a4b66e-80f3-4714-b23c-17d09a644165"
      },
      "execution_count": 24,
      "outputs": [
        {
          "output_type": "execute_result",
          "data": {
            "text/plain": [
              "                  Algorithm Model Score  Precision  Recall  F1 score  \\\n",
              "0  Random Forest Classifier      98.61%       0.77    0.90      0.83   \n",
              "1       K Nearest Neighbour       97.8%       0.64    0.94      0.76   \n",
              "\n",
              "   ROC-AUC score  \n",
              "0           0.95  \n",
              "1           0.96  "
            ],
            "text/html": [
              "\n",
              "  <div id=\"df-12a88dd6-2e8d-41a8-a5f9-544e91716dc0\">\n",
              "    <div class=\"colab-df-container\">\n",
              "      <div>\n",
              "<style scoped>\n",
              "    .dataframe tbody tr th:only-of-type {\n",
              "        vertical-align: middle;\n",
              "    }\n",
              "\n",
              "    .dataframe tbody tr th {\n",
              "        vertical-align: top;\n",
              "    }\n",
              "\n",
              "    .dataframe thead th {\n",
              "        text-align: right;\n",
              "    }\n",
              "</style>\n",
              "<table border=\"1\" class=\"dataframe\">\n",
              "  <thead>\n",
              "    <tr style=\"text-align: right;\">\n",
              "      <th></th>\n",
              "      <th>Algorithm</th>\n",
              "      <th>Model Score</th>\n",
              "      <th>Precision</th>\n",
              "      <th>Recall</th>\n",
              "      <th>F1 score</th>\n",
              "      <th>ROC-AUC score</th>\n",
              "    </tr>\n",
              "  </thead>\n",
              "  <tbody>\n",
              "    <tr>\n",
              "      <th>0</th>\n",
              "      <td>Random Forest Classifier</td>\n",
              "      <td>98.61%</td>\n",
              "      <td>0.77</td>\n",
              "      <td>0.90</td>\n",
              "      <td>0.83</td>\n",
              "      <td>0.95</td>\n",
              "    </tr>\n",
              "    <tr>\n",
              "      <th>1</th>\n",
              "      <td>K Nearest Neighbour</td>\n",
              "      <td>97.8%</td>\n",
              "      <td>0.64</td>\n",
              "      <td>0.94</td>\n",
              "      <td>0.76</td>\n",
              "      <td>0.96</td>\n",
              "    </tr>\n",
              "  </tbody>\n",
              "</table>\n",
              "</div>\n",
              "      <button class=\"colab-df-convert\" onclick=\"convertToInteractive('df-12a88dd6-2e8d-41a8-a5f9-544e91716dc0')\"\n",
              "              title=\"Convert this dataframe to an interactive table.\"\n",
              "              style=\"display:none;\">\n",
              "        \n",
              "  <svg xmlns=\"http://www.w3.org/2000/svg\" height=\"24px\"viewBox=\"0 0 24 24\"\n",
              "       width=\"24px\">\n",
              "    <path d=\"M0 0h24v24H0V0z\" fill=\"none\"/>\n",
              "    <path d=\"M18.56 5.44l.94 2.06.94-2.06 2.06-.94-2.06-.94-.94-2.06-.94 2.06-2.06.94zm-11 1L8.5 8.5l.94-2.06 2.06-.94-2.06-.94L8.5 2.5l-.94 2.06-2.06.94zm10 10l.94 2.06.94-2.06 2.06-.94-2.06-.94-.94-2.06-.94 2.06-2.06.94z\"/><path d=\"M17.41 7.96l-1.37-1.37c-.4-.4-.92-.59-1.43-.59-.52 0-1.04.2-1.43.59L10.3 9.45l-7.72 7.72c-.78.78-.78 2.05 0 2.83L4 21.41c.39.39.9.59 1.41.59.51 0 1.02-.2 1.41-.59l7.78-7.78 2.81-2.81c.8-.78.8-2.07 0-2.86zM5.41 20L4 18.59l7.72-7.72 1.47 1.35L5.41 20z\"/>\n",
              "  </svg>\n",
              "      </button>\n",
              "      \n",
              "  <style>\n",
              "    .colab-df-container {\n",
              "      display:flex;\n",
              "      flex-wrap:wrap;\n",
              "      gap: 12px;\n",
              "    }\n",
              "\n",
              "    .colab-df-convert {\n",
              "      background-color: #E8F0FE;\n",
              "      border: none;\n",
              "      border-radius: 50%;\n",
              "      cursor: pointer;\n",
              "      display: none;\n",
              "      fill: #1967D2;\n",
              "      height: 32px;\n",
              "      padding: 0 0 0 0;\n",
              "      width: 32px;\n",
              "    }\n",
              "\n",
              "    .colab-df-convert:hover {\n",
              "      background-color: #E2EBFA;\n",
              "      box-shadow: 0px 1px 2px rgba(60, 64, 67, 0.3), 0px 1px 3px 1px rgba(60, 64, 67, 0.15);\n",
              "      fill: #174EA6;\n",
              "    }\n",
              "\n",
              "    [theme=dark] .colab-df-convert {\n",
              "      background-color: #3B4455;\n",
              "      fill: #D2E3FC;\n",
              "    }\n",
              "\n",
              "    [theme=dark] .colab-df-convert:hover {\n",
              "      background-color: #434B5C;\n",
              "      box-shadow: 0px 1px 3px 1px rgba(0, 0, 0, 0.15);\n",
              "      filter: drop-shadow(0px 1px 2px rgba(0, 0, 0, 0.3));\n",
              "      fill: #FFFFFF;\n",
              "    }\n",
              "  </style>\n",
              "\n",
              "      <script>\n",
              "        const buttonEl =\n",
              "          document.querySelector('#df-12a88dd6-2e8d-41a8-a5f9-544e91716dc0 button.colab-df-convert');\n",
              "        buttonEl.style.display =\n",
              "          google.colab.kernel.accessAllowed ? 'block' : 'none';\n",
              "\n",
              "        async function convertToInteractive(key) {\n",
              "          const element = document.querySelector('#df-12a88dd6-2e8d-41a8-a5f9-544e91716dc0');\n",
              "          const dataTable =\n",
              "            await google.colab.kernel.invokeFunction('convertToInteractive',\n",
              "                                                     [key], {});\n",
              "          if (!dataTable) return;\n",
              "\n",
              "          const docLinkHtml = 'Like what you see? Visit the ' +\n",
              "            '<a target=\"_blank\" href=https://colab.research.google.com/notebooks/data_table.ipynb>data table notebook</a>'\n",
              "            + ' to learn more about interactive tables.';\n",
              "          element.innerHTML = '';\n",
              "          dataTable['output_type'] = 'display_data';\n",
              "          await google.colab.output.renderOutput(dataTable, element);\n",
              "          const docLink = document.createElement('div');\n",
              "          docLink.innerHTML = docLinkHtml;\n",
              "          element.appendChild(docLink);\n",
              "        }\n",
              "      </script>\n",
              "    </div>\n",
              "  </div>\n",
              "  "
            ]
          },
          "metadata": {},
          "execution_count": 24
        }
      ]
    },
    {
      "cell_type": "markdown",
      "source": [
        "**So, as we can see narrowing the data features may not always provide better results it seems! \n",
        "But there is always a possibility that the results may appear few points better than that of the entire dataset features.**"
      ],
      "metadata": {
        "id": "mRhtd_yfWELs"
      }
    },
    {
      "cell_type": "markdown",
      "source": [
        "# **7. Conclusion**\n",
        "\n",
        "* The number of organizations that have gone bankrupt in 10 years between 1999 – 2000 is few.\n",
        "* Several companies possess many assets, which is always a good sign for an organization.\n",
        "* An organization cannot guarantee not being bankrupt, although owning several assets.\n",
        "* Most of the organizations in the dataset are running into losses for the past two years as their net income poses to be negative.\n",
        "* Very few of the organizations that have had negative income in the past two years suffer from bankruptcy.\n",
        "* It is observed that “Debt Ratio %, Current Liability To Assets, Current Liability To Current Assets\" attributes are a few of the attributes that have a high correlation with the target attribute.\n",
        "* An increase in the values of the attributes “Debt Ratio %, Current Liability To Assets, Current Liability To Current Assets” causes an organization to suffer heavy losses, thus resulting in bankruptcy.\n",
        "* An increase in the values of the attributes that have a negative correlation with the target attribute helps an organization avoid bankruptcy.\n",
        "* There seems to be a relation between attributes that have a high correlation with the target attribute and a low correlation with the target attribute.\n",
        "* Random Forest Classifier and K Nearest Neighbour Algorithms gives the highest accuracy of 98%. "
      ],
      "metadata": {
        "id": "4midHDmQfETN"
      }
    }
  ]
}