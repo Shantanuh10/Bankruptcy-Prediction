{
  "nbformat": 4,
  "nbformat_minor": 0,
  "metadata": {
    "colab": {
      "name": "Capstone Project 3_Company Bankruptcy Prediction.ipynb",
      "provenance": [],
      "authorship_tag": "ABX9TyPdW0IMlhQUC5Yn/w810qSJ",
      "include_colab_link": true
    },
    "kernelspec": {
      "name": "python3",
      "display_name": "Python 3"
    },
    "language_info": {
      "name": "python"
    }
  },
  "cells": [
    {
      "cell_type": "markdown",
      "metadata": {
        "id": "view-in-github",
        "colab_type": "text"
      },
      "source": [
        "<a href=\"https://colab.research.google.com/github/Shantanuh10/Bankruptcy-Prediction/blob/main/Capstone_Project_3_Company_Bankruptcy_Prediction.ipynb\" target=\"_parent\"><img src=\"https://colab.research.google.com/assets/colab-badge.svg\" alt=\"Open In Colab\"/></a>"
      ]
    },
    {
      "cell_type": "markdown",
      "source": [
        "#**<font size=\"+3\" color='#053c40'><b> Company Bankruptcy Prediction </b></font>**\n",
        "\n",
        "\n",
        "---\n",
        "\n",
        "\n",
        "#<font size=\"+2\" color='#053c96'><b> About this Project </b></font>\n",
        "\n",
        "This is a Machine Learning Classification Project, which is part of AlmaBetter's Data Science Pro Program Curriculum.\n",
        "\n",
        "#<font size=\"+2\" color='#053c96'><b> Problem Statement </b></font>\n",
        "\n",
        "Prediction of bankruptcy is a phenomenon of increasing interest to firms who stand to loose money because on unpaid debts. Since computers can store huge dataset pertaining to bankruptcy making accurate predictions from them before hand is becoming important.\n",
        "\n",
        "The data were collected from the Taiwan Economic Journal for the years 1999 to 2009. Company bankruptcy was defined based on the business regulations of the Taiwan Stock Exchange.\n",
        "\n",
        "The main objective of this project is to use various classification algorithms on bankruptcy dataset to predict bankruptcies with satisfying accuracies long before the actual event.\n",
        "\n",
        "---\n",
        "\n",
        "#<font size=\"+2\" color='#053c96'><b> Dataset Information </b></font>\n",
        "\n",
        "*   Number of instances: 6819\n",
        "*   Number of attributes: 96\n",
        "\n",
        "---\n",
        "\n",
        "#<font size=\"+2\" color='#053c96'><b> Understanding the Data </b></font>\n",
        "\n",
        "Updated column names and description to make the data easier to understand (Y = Output feature, X = Input features)\n",
        "\n",
        "Y - Bankrupt?: Class label 1 : Yes , 0: No\n",
        "\n",
        "X1 - ROA(C) before interest and depreciation before interest: Return On Total Assets(C)\n",
        "\n",
        "X2 - ROA(A) before interest and % after tax: Return On Total Assets(A)\n",
        "\n",
        "X3 - ROA(B) before interest and depreciation after tax: Return On Total Assets(B)\n",
        "\n",
        "X4 - Operating Gross Margin: Gross Profit/Net Sales\n",
        "\n",
        "X5 - Realized Sales Gross Margin: Realized Gross Profit/Net Sales\n",
        "\n",
        "X6 - Operating Profit Rate: Operating Income/Net Sales\n",
        "\n",
        "X7 - Pre-tax net Interest Rate: Pre-Tax Income/Net Sales\n",
        "\n",
        "X8 - After-tax net Interest Rate: Net Income/Net Sales\n",
        "\n",
        "X9 - Non-industry income and expenditure/revenue: Net Non-operating Income Ratio\n",
        "\n",
        "X10 - Continuous interest rate (after tax): Net Income-Exclude Disposal Gain or Loss/Net Sales\n",
        "\n",
        "X11 - Operating Expense Rate: Operating Expenses/Net Sales\n",
        "\n",
        "X12 - Research and development expense rate: (Research and Development Expenses)/Net Sales\n",
        "\n",
        "X13 - Cash flow rate: Cash Flow from Operating/Current Liabilities\n",
        "\n",
        "X14 - Interest-bearing debt interest rate: Interest-bearing Debt/Equity\n",
        "\n",
        "X15 - Tax rate (A): Effective Tax Rate\n",
        "\n",
        "X16 - Net Value Per Share (B): Book Value Per Share(B)\n",
        "\n",
        "X17 - Net Value Per Share (A): Book Value Per Share(A)\n",
        "\n",
        "X18 - Net Value Per Share (C): Book Value Per Share(C)\n",
        "\n",
        "X19 - Persistent EPS in the Last Four Seasons: EPS-Net Income\n",
        "\n",
        "X20 - Cash Flow Per Share\n",
        "\n",
        "X21 - Revenue Per Share (Yuan ¥): Sales Per Share\n",
        "\n",
        "X22 - Operating Profit Per Share (Yuan ¥): Operating Income Per Share\n",
        "\n",
        "X23 - Per Share Net profit before tax (Yuan ¥): Pretax Income Per Share\n",
        "\n",
        "X24 - Realized Sales Gross Profit Growth Rate\n",
        "\n",
        "X25 - Operating Profit Growth Rate: Operating Income Growth\n",
        "\n",
        "X26 - After-tax Net Profit Growth Rate: Net Income Growth\n",
        "\n",
        "X27 - Regular Net Profit Growth Rate: Continuing Operating Income after Tax Growth\n",
        "\n",
        "X28 - Continuous Net Profit Growth Rate: Net Income-Excluding Disposal Gain or Loss Growth\n",
        "\n",
        "X29 - Total Asset Growth Rate: Total Asset Growth\n",
        "\n",
        "X30 - Net Value Growth Rate: Total Equity Growth\n",
        "\n",
        "X31 - Total Asset Return Growth Rate Ratio: Return on Total Asset Growth\n",
        "\n",
        "X32 - Cash Reinvestment %: Cash Reinvestment Ratio\n",
        "\n",
        "X33 - Current Ratio\n",
        "\n",
        "X34 - Quick Ratio: Acid Test\n",
        "\n",
        "X35 - Interest Expense Ratio: Interest Expenses/Total Revenue\n",
        "\n",
        "X36 - Total debt/Total net worth: Total Liability/Equity Ratio\n",
        "\n",
        "X37 - Debt ratio %: Liability/Total Assets\n",
        "\n",
        "X38 - Net worth/Assets: Equity/Total Assets\n",
        "\n",
        "X39 - Long-term fund suitability ratio (A): (Long-term Liability+Equity)/Fixed Assets\n",
        "\n",
        "X40 - Borrowing dependency: Cost of Interest-bearing Debt\n",
        "\n",
        "X41 - Contingent liabilities/Net worth: Contingent Liability/Equity\n",
        "\n",
        "X42 - Operating profit/Paid-in capital: Operating Income/Capital\n",
        "\n",
        "X43 - Net profit before tax/Paid-in capital: Pretax Income/Capital\n",
        "\n",
        "X44 - Inventory and accounts receivable/Net value: (Inventory+Accounts Receivables)/Equity\n",
        "\n",
        "X45 - Total Asset Turnover\n",
        "\n",
        "X46 - Accounts Receivable Turnover\n",
        "\n",
        "X47 - Average Collection Days: Days Receivable Outstanding\n",
        "\n",
        "X48 - Inventory Turnover Rate (times)\n",
        "\n",
        "X49 - Fixed Assets Turnover Frequency\n",
        "\n",
        "X50 - Net Worth Turnover Rate (times): Equity Turnover\n",
        "\n",
        "X51 - Revenue per person: Sales Per Employee\n",
        "\n",
        "X52 - Operating profit per person: Operation Income Per Employee\n",
        "\n",
        "X53 - Allocation rate per person: Fixed Assets Per Employee\n",
        "\n",
        "X54 - Working Capital to Total Assets\n",
        "\n",
        "X55 - Quick Assets/Total Assets\n",
        "\n",
        "X56 - Current Assets/Total Assets\n",
        "\n",
        "X57 - Cash/Total Assets\n",
        "\n",
        "X58 - Quick Assets/Current Liability\n",
        "\n",
        "X59 - Cash/Current Liability\n",
        "\n",
        "X60 - Current Liability to Assets\n",
        "\n",
        "X61 - Operating Funds to Liability\n",
        "\n",
        "X62 - Inventory/Working Capital\n",
        "\n",
        "X63 - Inventory/Current Liability\n",
        "\n",
        "X64 - Current Liabilities/Liability\n",
        "\n",
        "X65 - Working Capital/Equity\n",
        "\n",
        "X66 - Current Liabilities/Equity\n",
        "\n",
        "X67 - Long-term Liability to Current Assets\n",
        "\n",
        "X68 - Retained Earnings to Total Assets\n",
        "\n",
        "X69 - Total income/Total expense\n",
        "\n",
        "X70 - Total expense/Assets\n",
        "\n",
        "X71 - Current Asset Turnover Rate: Current Assets to Sales\n",
        "\n",
        "X72 - Quick Asset Turnover Rate: Quick Assets to Sales\n",
        "\n",
        "X73 - Working capitcal Turnover Rate: Working Capital to Sales\n",
        "\n",
        "X74 - Cash Turnover Rate: Cash to Sales\n",
        "\n",
        "X75 - Cash Flow to Sales\n",
        "\n",
        "X76 - Fixed Assets to Assets\n",
        "\n",
        "X77 - Current Liability to Liability\n",
        "\n",
        "X78 - Current Liability to Equity\n",
        "\n",
        "X79 - Equity to Long-term Liability\n",
        "\n",
        "X80 - Cash Flow to Total Assets\n",
        "\n",
        "X81 - Cash Flow to Liability\n",
        "\n",
        "X82 - CFO to Assets\n",
        "\n",
        "X83 - Cash Flow to Equity\n",
        "\n",
        "X84 - Current Liability to Current Assets\n",
        "\n",
        "X85 - Liability-Assets Flag: 1 if Total Liability exceeds Total Assets, 0 otherwise\n",
        "\n",
        "X86 - Net Income to Total Assets\n",
        "\n",
        "X87 - Total assets to GNP price\n",
        "\n",
        "X88 - No-credit Interval\n",
        "\n",
        "X89 - Gross Profit to Sales\n",
        "\n",
        "X90 - Net Income to Stockholder's Equity\n",
        "\n",
        "X91 - Liability to Equity\n",
        "\n",
        "X92 - Degree of Financial Leverage (DFL)\n",
        "\n",
        "X93 - Interest Coverage Ratio (Interest expense to EBIT)\n",
        "\n",
        "X94 - Net Income Flag: 1 if Net Income is Negative for the last two years, 0 otherwise\n",
        "\n",
        "X95 - Equity to Liability\n",
        "\n",
        "**Target Variable :**\n",
        "\n",
        "Bankrupt?: Class label 1 : Yes , 0: No\n",
        "\n",
        "**Goal: The main objective is to analyze the dataset and build a predictive model by using various classification algorithms to predict bankruptcy of companies.**\n",
        "\n",
        "#<font size=\"+2\" color='#053c96'><b> Project Workflow </b></font>\n",
        "\n",
        "1. Importing Libraries\n",
        "\n",
        "2. Loading the Dataset\n",
        "\n",
        "3. EDA on features \n",
        "\n",
        "4. Feature Engineering\n",
        "\n",
        "5. Data Cleaning\n",
        "\n",
        "6. Feature selection\n",
        "\n",
        "7. Comparison of Models\n",
        "\n",
        "8. Final selection of the model\n",
        "\n",
        "9. Conclusion\n",
        "--- "
      ],
      "metadata": {
        "id": "p4Bd_vPXRHpK"
      }
    },
    {
      "cell_type": "markdown",
      "source": [
        "# **1. Importing Libraries**"
      ],
      "metadata": {
        "id": "BD9_dDzjWs0v"
      }
    },
    {
      "cell_type": "code",
      "execution_count": 13,
      "metadata": {
        "id": "1HZdy4VmQ_xP"
      },
      "outputs": [],
      "source": [
        "import numpy as np\n",
        "import pandas as pd\n",
        "import seaborn as sns\n",
        "from random import randint\n",
        "import matplotlib.pyplot as plt\n",
        "\n",
        "from sklearn.linear_model import LogisticRegression\n",
        "from sklearn.svm import SVC\n",
        "from sklearn.neighbors import KNeighborsClassifier\n",
        "from sklearn.tree import DecisionTreeClassifier\n",
        "from sklearn.ensemble import RandomForestClassifier\n",
        "\n",
        "from sklearn.model_selection import train_test_split\n",
        "from sklearn.model_selection import StratifiedKFold\n",
        "from imblearn.pipeline import make_pipeline as imbalanced_make_pipeline\n",
        "from imblearn.over_sampling import SMOTE\n",
        "from sklearn.model_selection import RandomizedSearchCV\n",
        "from sklearn.metrics import classification_report, confusion_matrix, f1_score,accuracy_score, precision_score, recall_score, roc_auc_score \n",
        "\n",
        "from sklearn.feature_selection import SelectKBest\n",
        "from sklearn.feature_selection import f_classif\n",
        "\n",
        "import warnings\n",
        "warnings.filterwarnings(\"ignore\")"
      ]
    },
    {
      "cell_type": "markdown",
      "source": [
        "# **2. Loading the dataset**"
      ],
      "metadata": {
        "id": "XU_aUXS-aizw"
      }
    },
    {
      "cell_type": "code",
      "source": [
        "#mounting the drive\n",
        "from google.colab import drive\n",
        "drive.mount('/content/drive')"
      ],
      "metadata": {
        "colab": {
          "base_uri": "https://localhost:8080/"
        },
        "id": "nAEH41Nyaj0A",
        "outputId": "1082f0b1-6341-4d9d-d8cf-c2f3286acb0f"
      },
      "execution_count": 14,
      "outputs": [
        {
          "output_type": "stream",
          "name": "stdout",
          "text": [
            "Drive already mounted at /content/drive; to attempt to forcibly remount, call drive.mount(\"/content/drive\", force_remount=True).\n"
          ]
        }
      ]
    },
    {
      "cell_type": "code",
      "source": [
        "#loading the data file and creating a dataframe\n",
        "path='/content/drive/MyDrive/Company Bankruptcy Prediction - Shantanu Houzwala/COMPANY BANKRUPTCY PREDICTION.csv' \n",
        "df=pd.read_csv(path)"
      ],
      "metadata": {
        "id": "yK9wfw1Ea5ND"
      },
      "execution_count": 15,
      "outputs": []
    },
    {
      "cell_type": "markdown",
      "source": [
        "# **3. Exploratory Data Analysis**"
      ],
      "metadata": {
        "id": "xUl1BqTSbToo"
      }
    },
    {
      "cell_type": "code",
      "source": [
        "df.shape"
      ],
      "metadata": {
        "colab": {
          "base_uri": "https://localhost:8080/"
        },
        "id": "MnLD9zBkbVUM",
        "outputId": "912954b5-5d8d-4855-a46b-aeac6496ab86"
      },
      "execution_count": 16,
      "outputs": [
        {
          "output_type": "execute_result",
          "data": {
            "text/plain": [
              "(6819, 96)"
            ]
          },
          "metadata": {},
          "execution_count": 16
        }
      ]
    },
    {
      "cell_type": "code",
      "source": [
        "#printing the dataset info\n",
        "df.info()"
      ],
      "metadata": {
        "colab": {
          "base_uri": "https://localhost:8080/"
        },
        "id": "iaIxujcxebXE",
        "outputId": "dde3437d-579d-49d3-ae07-f5cbf20764a4"
      },
      "execution_count": 17,
      "outputs": [
        {
          "output_type": "stream",
          "name": "stdout",
          "text": [
            "<class 'pandas.core.frame.DataFrame'>\n",
            "RangeIndex: 6819 entries, 0 to 6818\n",
            "Data columns (total 96 columns):\n",
            " #   Column                                             Non-Null Count  Dtype  \n",
            "---  ------                                             --------------  -----  \n",
            " 0   Bankrupt?                                          6819 non-null   int64  \n",
            " 1   ROA(C)beforeinterestanddepreciationbeforeinterest  6819 non-null   float64\n",
            " 2   ROA(A)beforeinterestand%aftertax                   6819 non-null   float64\n",
            " 3   ROA(B)beforeinterestanddepreciationaftertax        6819 non-null   float64\n",
            " 4   OperatingGrossMargin                               6819 non-null   float64\n",
            " 5   RealizedSalesGrossMargin                           6819 non-null   float64\n",
            " 6   OperatingProfitRate                                6819 non-null   float64\n",
            " 7   Pre-taxnetInterestRate                             6819 non-null   float64\n",
            " 8   After-taxnetInterestRate                           6819 non-null   float64\n",
            " 9   Non-industryincomeandexpenditure/revenue           6819 non-null   float64\n",
            " 10  Continuousinterestrate(aftertax)                   6819 non-null   float64\n",
            " 11  OperatingExpenseRate                               6819 non-null   float64\n",
            " 12  Researchanddevelopmentexpenserate                  6819 non-null   float64\n",
            " 13  Cashflowrate                                       6819 non-null   float64\n",
            " 14  Interest-bearingdebtinterestrate                   6819 non-null   float64\n",
            " 15  Taxrate(A)                                         6819 non-null   float64\n",
            " 16  NetValuePerShare(B)                                6819 non-null   float64\n",
            " 17  NetValuePerShare(A)                                6819 non-null   float64\n",
            " 18  NetValuePerShare(C)                                6819 non-null   float64\n",
            " 19  PersistentEPSintheLastFourSeasons                  6819 non-null   float64\n",
            " 20  CashFlowPerShare                                   6819 non-null   float64\n",
            " 21  RevenuePerShare(Yuan¥)                             6819 non-null   float64\n",
            " 22  OperatingProfitPerShare(Yuan¥)                     6819 non-null   float64\n",
            " 23  PerShareNetprofitbeforetax(Yuan¥)                  6819 non-null   float64\n",
            " 24  RealizedSalesGrossProfitGrowthRate                 6819 non-null   float64\n",
            " 25  OperatingProfitGrowthRate                          6819 non-null   float64\n",
            " 26  After-taxNetProfitGrowthRate                       6819 non-null   float64\n",
            " 27  RegularNetProfitGrowthRate                         6819 non-null   float64\n",
            " 28  ContinuousNetProfitGrowthRate                      6819 non-null   float64\n",
            " 29  TotalAssetGrowthRate                               6819 non-null   float64\n",
            " 30  NetValueGrowthRate                                 6819 non-null   float64\n",
            " 31  TotalAssetReturnGrowthRateRatio                    6819 non-null   float64\n",
            " 32  CashReinvestment%                                  6819 non-null   float64\n",
            " 33  CurrentRatio                                       6819 non-null   float64\n",
            " 34  QuickRatio                                         6819 non-null   float64\n",
            " 35  InterestExpenseRatio                               6819 non-null   float64\n",
            " 36  Totaldebt/Totalnetworth                            6819 non-null   float64\n",
            " 37  Debtratio%                                         6819 non-null   float64\n",
            " 38  Networth/Assets                                    6819 non-null   float64\n",
            " 39  Long-termfundsuitabilityratio(A)                   6819 non-null   float64\n",
            " 40  Borrowingdependency                                6819 non-null   float64\n",
            " 41  Contingentliabilities/Networth                     6819 non-null   float64\n",
            " 42  Operatingprofit/Paid-incapital                     6819 non-null   float64\n",
            " 43  Netprofitbeforetax/Paid-incapital                  6819 non-null   float64\n",
            " 44  Inventoryandaccountsreceivable/Netvalue            6819 non-null   float64\n",
            " 45  TotalAssetTurnover                                 6819 non-null   float64\n",
            " 46  AccountsReceivableTurnover                         6819 non-null   float64\n",
            " 47  AverageCollectionDays                              6819 non-null   float64\n",
            " 48  InventoryTurnoverRate(times)                       6819 non-null   float64\n",
            " 49  FixedAssetsTurnoverFrequency                       6819 non-null   float64\n",
            " 50  NetWorthTurnoverRate(times)                        6819 non-null   float64\n",
            " 51  Revenueperperson                                   6819 non-null   float64\n",
            " 52  Operatingprofitperperson                           6819 non-null   float64\n",
            " 53  Allocationrateperperson                            6819 non-null   float64\n",
            " 54  WorkingCapitaltoTotalAssets                        6819 non-null   float64\n",
            " 55  QuickAssets/TotalAssets                            6819 non-null   float64\n",
            " 56  CurrentAssets/TotalAssets                          6819 non-null   float64\n",
            " 57  Cash/TotalAssets                                   6819 non-null   float64\n",
            " 58  QuickAssets/CurrentLiability                       6819 non-null   float64\n",
            " 59  Cash/CurrentLiability                              6819 non-null   float64\n",
            " 60  CurrentLiabilitytoAssets                           6819 non-null   float64\n",
            " 61  OperatingFundstoLiability                          6819 non-null   float64\n",
            " 62  Inventory/WorkingCapital                           6819 non-null   float64\n",
            " 63  Inventory/CurrentLiability                         6819 non-null   float64\n",
            " 64  CurrentLiabilities/Liability                       6819 non-null   float64\n",
            " 65  WorkingCapital/Equity                              6819 non-null   float64\n",
            " 66  CurrentLiabilities/Equity                          6819 non-null   float64\n",
            " 67  Long-termLiabilitytoCurrentAssets                  6819 non-null   float64\n",
            " 68  RetainedEarningstoTotalAssets                      6819 non-null   float64\n",
            " 69  Totalincome/Totalexpense                           6819 non-null   float64\n",
            " 70  Totalexpense/Assets                                6819 non-null   float64\n",
            " 71  CurrentAssetTurnoverRate                           6819 non-null   float64\n",
            " 72  QuickAssetTurnoverRate                             6819 non-null   float64\n",
            " 73  WorkingcapitcalTurnoverRate                        6819 non-null   float64\n",
            " 74  CashTurnoverRate                                   6819 non-null   float64\n",
            " 75  CashFlowtoSales                                    6819 non-null   float64\n",
            " 76  FixedAssetstoAssets                                6819 non-null   float64\n",
            " 77  CurrentLiabilitytoLiability                        6819 non-null   float64\n",
            " 78  CurrentLiabilitytoEquity                           6819 non-null   float64\n",
            " 79  EquitytoLong-termLiability                         6819 non-null   float64\n",
            " 80  CashFlowtoTotalAssets                              6819 non-null   float64\n",
            " 81  CashFlowtoLiability                                6819 non-null   float64\n",
            " 82  CFOtoAssets                                        6819 non-null   float64\n",
            " 83  CashFlowtoEquity                                   6819 non-null   float64\n",
            " 84  CurrentLiabilitytoCurrentAssets                    6819 non-null   float64\n",
            " 85  LiabilityAssetsFlag                                6819 non-null   int64  \n",
            " 86  NetIncometoTotalAssets                             6819 non-null   float64\n",
            " 87  TotalassetstoGNPprice                              6819 non-null   float64\n",
            " 88  No-creditInterval                                  6819 non-null   float64\n",
            " 89  GrossProfittoSales                                 6819 non-null   float64\n",
            " 90  NetIncometoStockholder'sEquity                     6819 non-null   float64\n",
            " 91  LiabilitytoEquity                                  6819 non-null   float64\n",
            " 92  DegreeofFinancialLeverage(DFL)                     6819 non-null   float64\n",
            " 93  InterestCoverageRatio(InterestexpensetoEBIT)       6819 non-null   float64\n",
            " 94  NetIncomeFlag                                      6819 non-null   int64  \n",
            " 95  EquitytoLiability                                  6819 non-null   float64\n",
            "dtypes: float64(93), int64(3)\n",
            "memory usage: 5.0 MB\n"
          ]
        }
      ]
    },
    {
      "cell_type": "code",
      "source": [
        "#checking for duplicacy in the dataset\n",
        "df.duplicated().sum()"
      ],
      "metadata": {
        "colab": {
          "base_uri": "https://localhost:8080/"
        },
        "id": "iAOVAjUWfxhx",
        "outputId": "a7afb469-24fb-4a04-c70c-de60618516d2"
      },
      "execution_count": 18,
      "outputs": [
        {
          "output_type": "execute_result",
          "data": {
            "text/plain": [
              "0"
            ]
          },
          "metadata": {},
          "execution_count": 18
        }
      ]
    },
    {
      "cell_type": "markdown",
      "source": [
        "**The dataset doesn't contain any duplicate rows**"
      ],
      "metadata": {
        "id": "5a7wJNL-f3MU"
      }
    },
    {
      "cell_type": "code",
      "source": [
        "#Finding null values if any\n",
        "df.isnull().sum().sort_values(ascending=False).head()"
      ],
      "metadata": {
        "colab": {
          "base_uri": "https://localhost:8080/"
        },
        "id": "phulLOBwfQ9r",
        "outputId": "e6171dd1-1a55-444a-c127-108de09d8296"
      },
      "execution_count": 19,
      "outputs": [
        {
          "output_type": "execute_result",
          "data": {
            "text/plain": [
              "Bankrupt?                                            0\n",
              "ROA(C)beforeinterestanddepreciationbeforeinterest    0\n",
              "Totalexpense/Assets                                  0\n",
              "Totalincome/Totalexpense                             0\n",
              "RetainedEarningstoTotalAssets                        0\n",
              "dtype: int64"
            ]
          },
          "metadata": {},
          "execution_count": 19
        }
      ]
    },
    {
      "cell_type": "markdown",
      "source": [
        "**Since there are no missing values, we can jump into analyzing the data**"
      ],
      "metadata": {
        "id": "3z6aPdusff-b"
      }
    },
    {
      "cell_type": "code",
      "source": [
        "#finding number of bankrupt companies\n",
        "sns.countplot('Bankrupt?',data=df,palette ='Accent')"
      ],
      "metadata": {
        "colab": {
          "base_uri": "https://localhost:8080/",
          "height": 296
        },
        "id": "N4HpQXYxflzM",
        "outputId": "56f86b68-4388-430b-be20-489a92520f93"
      },
      "execution_count": 23,
      "outputs": [
        {
          "output_type": "execute_result",
          "data": {
            "text/plain": [
              "<matplotlib.axes._subplots.AxesSubplot at 0x7fafd4e76590>"
            ]
          },
          "metadata": {},
          "execution_count": 23
        },
        {
          "output_type": "display_data",
          "data": {
            "text/plain": [
              "<Figure size 432x288 with 1 Axes>"
            ],
            "image/png": "[encoded data removed]"
          },
          "metadata": {
            "needs_background": "light"
          }
        }
      ]
    },
    {
      "cell_type": "markdown",
      "source": [
        "The records are observed to be highly imbalanced. Thus it is necessary to consider balancing the dataset through \"Upsampling or Downsampling\" techniques.\n",
        "\n",
        "Through df.info(), we observed that we have a majority of \"float64\" data. The categorical data is distinguished as binary 1 and 0, thus stored as \"int64\". We separate the numeric and categoric data to analyze our dataset."
      ],
      "metadata": {
        "id": "fkx1Q0C7lLtf"
      }
    },
    {
      "cell_type": "code",
      "source": [
        "numeric_features = df.dtypes[df.dtypes != 'int64'].index\n",
        "categorical_features = df.dtypes[df.dtypes == 'int64'].index\n",
        "\n",
        "df[categorical_features].columns.tolist()"
      ],
      "metadata": {
        "colab": {
          "base_uri": "https://localhost:8080/"
        },
        "id": "o2FPTVmNl4r7",
        "outputId": "4898b9dd-9b85-4bc3-db1b-173d03ec51c9"
      },
      "execution_count": 21,
      "outputs": [
        {
          "output_type": "execute_result",
          "data": {
            "text/plain": [
              "['Bankrupt?', 'LiabilityAssetsFlag', 'NetIncomeFlag']"
            ]
          },
          "metadata": {},
          "execution_count": 21
        }
      ]
    },
    {
      "cell_type": "markdown",
      "source": [
        "**There are only three categorical data columns, we will first explore these columns**"
      ],
      "metadata": {
        "id": "eQ_cKNWlmKJm"
      }
    },
    {
      "cell_type": "code",
      "source": [
        "#Plotting count of liability-assets flag\n",
        "print(df['LiabilityAssetsFlag'].value_counts())\n",
        "sns.countplot('LiabilityAssetsFlag',data=df,palette ='twilight')"
      ],
      "metadata": {
        "id": "kfK0hKl-qHAI",
        "colab": {
          "base_uri": "https://localhost:8080/",
          "height": 348
        },
        "outputId": "e6414ac3-cc4d-4b48-df14-f0f5b3bff2c9"
      },
      "execution_count": 29,
      "outputs": [
        {
          "output_type": "stream",
          "name": "stdout",
          "text": [
            "0    6811\n",
            "1       8\n",
            "Name: LiabilityAssetsFlag, dtype: int64\n"
          ]
        },
        {
          "output_type": "execute_result",
          "data": {
            "text/plain": [
              "<matplotlib.axes._subplots.AxesSubplot at 0x7fafd4bbd710>"
            ]
          },
          "metadata": {},
          "execution_count": 29
        },
        {
          "output_type": "display_data",
          "data": {
            "text/plain": [
              "<Figure size 432x288 with 1 Axes>"
            ],
            "image/png": "[encoded data removed]"
          },
          "metadata": {
            "needs_background": "light"
          }
        }
      ]
    },
    {
      "cell_type": "markdown",
      "source": [
        "**The \"Liability-Assets\" flag denotes the status of an organization, where if the total liability exceeds total assets, the flagged value will be 1, else the value is 0. A majority number of times, organizations/company's assets are more than their liabilities.**"
      ],
      "metadata": {
        "id": "GnvrfkRvohYk"
      }
    },
    {
      "cell_type": "code",
      "source": [
        "#Finding bankrupt companies on the basis of liability-assets flag\n",
        "print(df[['LiabilityAssetsFlag','Bankrupt?']].value_counts())\n",
        "sns.countplot(x = 'LiabilityAssetsFlag',hue = 'Bankrupt?',data = df,palette = 'twilight')"
      ],
      "metadata": {
        "colab": {
          "base_uri": "https://localhost:8080/",
          "height": 401
        },
        "id": "eG9JbK6WuaIr",
        "outputId": "e8bf83cb-89d9-4868-e752-62aab89fe8e5"
      },
      "execution_count": 34,
      "outputs": [
        {
          "output_type": "stream",
          "name": "stdout",
          "text": [
            "LiabilityAssetsFlag  Bankrupt?\n",
            "0                    0            6597\n",
            "                     1             214\n",
            "1                    1               6\n",
            "                     0               2\n",
            "dtype: int64\n"
          ]
        },
        {
          "output_type": "execute_result",
          "data": {
            "text/plain": [
              "<matplotlib.axes._subplots.AxesSubplot at 0x7fafd48758d0>"
            ]
          },
          "metadata": {},
          "execution_count": 34
        },
        {
          "output_type": "display_data",
          "data": {
            "text/plain": [
              "<Figure size 432x288 with 1 Axes>"
            ],
            "image/png": "[encoded data removed]"
          },
          "metadata": {
            "needs_background": "light"
          }
        }
      ]
    },
    {
      "cell_type": "markdown",
      "source": [
        "**A small portion of organizations suffers bankruptcy, although possessing more assets than their liabilities.**"
      ],
      "metadata": {
        "id": "2Q17dyidqH6y"
      }
    },
    {
      "cell_type": "code",
      "source": [
        "#Plotting total count of net income flag\n",
        "print(df['NetIncomeFlag'].value_counts())\n",
        "sns.countplot('NetIncomeFlag',data=df,palette = 'Oranges')"
      ],
      "metadata": {
        "colab": {
          "base_uri": "https://localhost:8080/",
          "height": 331
        },
        "id": "onQVWvG5qtvD",
        "outputId": "e2880fd5-3065-4613-86a4-11eb89372a44"
      },
      "execution_count": 36,
      "outputs": [
        {
          "output_type": "stream",
          "name": "stdout",
          "text": [
            "1    6819\n",
            "Name: NetIncomeFlag, dtype: int64\n"
          ]
        },
        {
          "output_type": "execute_result",
          "data": {
            "text/plain": [
              "<matplotlib.axes._subplots.AxesSubplot at 0x7fafd47e1250>"
            ]
          },
          "metadata": {},
          "execution_count": 36
        },
        {
          "output_type": "display_data",
          "data": {
            "text/plain": [
              "<Figure size 432x288 with 1 Axes>"
            ],
            "image/png": "[encoded data removed]"
          },
          "metadata": {
            "needs_background": "light"
          }
        }
      ]
    },
    {
      "cell_type": "markdown",
      "source": [
        "**The \"Net Income\" flag denotes the status of an organization's income in the last two years, where if the net income is negative for the past two years, the flagged value will be 1, else the value is 0. We observe that all the records have been exhibiting a loss for the past two years.**"
      ],
      "metadata": {
        "id": "SX1M4yqTraeT"
      }
    },
    {
      "cell_type": "code",
      "source": [
        "#Finding bankrupt companies on the basis of net income flag\n",
        "print(df[['NetIncomeFlag','Bankrupt?']].value_counts())\n",
        "sns.countplot(x = 'NetIncomeFlag',hue = 'Bankrupt?',data = df,palette = 'twilight')"
      ],
      "metadata": {
        "colab": {
          "base_uri": "https://localhost:8080/",
          "height": 366
        },
        "id": "MlrA4HVkq41H",
        "outputId": "7653cbd5-faa4-4c73-edfd-c9a175806501"
      },
      "execution_count": 39,
      "outputs": [
        {
          "output_type": "stream",
          "name": "stdout",
          "text": [
            "NetIncomeFlag  Bankrupt?\n",
            "1              0            6599\n",
            "               1             220\n",
            "dtype: int64\n"
          ]
        },
        {
          "output_type": "execute_result",
          "data": {
            "text/plain": [
              "<matplotlib.axes._subplots.AxesSubplot at 0x7fafd46c1b50>"
            ]
          },
          "metadata": {},
          "execution_count": 39
        },
        {
          "output_type": "display_data",
          "data": {
            "text/plain": [
              "<Figure size 432x288 with 1 Axes>"
            ],
            "image/png": "[encoded data removed]"
          },
          "metadata": {
            "needs_background": "light"
          }
        }
      ]
    },
    {
      "cell_type": "markdown",
      "source": [
        "**Many organizations that have suffered losses for the past two years have stabilized their business, thus avoiding bankruptcy.**"
      ],
      "metadata": {
        "id": "QlrcCIoAsryt"
      }
    },
    {
      "cell_type": "code",
      "source": [
        ""
      ],
      "metadata": {
        "id": "CgdR3xVDsBKz"
      },
      "execution_count": null,
      "outputs": []
    }
  ]
}